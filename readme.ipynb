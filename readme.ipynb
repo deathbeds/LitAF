{
 "cells": [
  {
   "cell_type": "markdown",
   "metadata": {},
   "source": [
    "# A Notebook is a Hypothesis\n",
    "\n",
    "> Blending the paradigms of modern science and open source software\n"
   ]
  },
  {
   "cell_type": "code",
   "execution_count": null,
   "metadata": {},
   "outputs": [],
   "source": [
    "    %reload_ext pidgin\n",
    "    %pidgin markdown test conventions"
   ]
  },
  {
   "cell_type": "code",
   "execution_count": null,
   "metadata": {},
   "outputs": [],
   "source": [
    "Testing and documentation are critical features in reusable open source software.  These best practices evolved from the need for community development of software for people to read and write.  Generations of open source software have established idioms and style guides to enable software development at a global scale.  Access to resuable software is blending with modern science which shares a similar global ambition to solve increasing complex, multi-objective engineering problems.\n",
    "\n",
    "Modern scientists are transitioning to a generation where notebooks are common currency.  Notebooks are evolving past a medium for personal insight to assets for communities innovation.  Notebooks are becoming extrapersonal objects to scientists that evaluated procedural units of thought as computational ideas.  In a way, notebooks are a modern hypothesis and scientists must become comfortable with sharing them quicker.  \n",
    "\n",
    "Unfortunately, many new notebook authors lack conventions for sharing notebooks with a community.  This talk \n",
    "will present tactics from literate programming to create readable, reusable, and reproducible notebooks.  These notebook authoring practices promote improved documentation and unit testing."
   ]
  },
  {
   "cell_type": "code",
   "execution_count": null,
   "metadata": {},
   "outputs": [],
   "source": [
    "    class Test(__import__('unittest').TestCase):\n",
    "        def testLitAF(Test):\n",
    "            import litaf\n",
    "            assert litaf.LiterateProgramming\n",
    "        def testImports(Test):\n",
    "            import references\n",
    "            from litaf.utils import style\n",
    "            assert references, style"
   ]
  },
  {
   "cell_type": "code",
   "execution_count": null,
   "metadata": {},
   "outputs": [],
   "source": [
    "    if __name__ == '__main__':\n",
    "        !jupyter nbconvert --to markdown readme.ipynb\n",
    "    %pidgin --off markdown"
   ]
  }
 ],
 "metadata": {
  "kernelspec": {
   "display_name": "p6",
   "language": "python",
   "name": "other-env"
  },
  "language_info": {
   "codemirror_mode": {
    "name": "ipython",
    "version": 3
   },
   "file_extension": ".py",
   "mimetype": "text/x-python",
   "name": "python",
   "nbconvert_exporter": "python",
   "pygments_lexer": "ipython3",
   "version": "3.6.3"
  }
 },
 "nbformat": 4,
 "nbformat_minor": 2
}
