{
 "cells": [
  {
   "cell_type": "markdown",
   "metadata": {},
   "source": [
    "# The ~~Medium~~ Computers is the Message\n",
    "\n",
    "Computer science has evolved to solve problems at scale through collaborating on software using the internet."
   ]
  },
  {
   "cell_type": "code",
   "execution_count": 3,
   "metadata": {},
   "outputs": [],
   "source": [
    "    %reload_ext pidgin\n",
    "    %pidgin markdown test conventions"
   ]
  },
  {
   "cell_type": "code",
   "execution_count": 4,
   "metadata": {},
   "outputs": [
    {
     "data": {
      "text/markdown": [
       "    class Test(__import__('unittest').TestCase):\n",
       "        def testLitAF(Test):\n",
       "            import litaf\n",
       "            assert litaf.LiterateProgramming\n",
       "        def testImports(Test):\n",
       "            import references\n",
       "            from utils import style\n",
       "            assert references, style"
      ],
      "text/plain": [
       "<IPython.core.display.Markdown object>"
      ]
     },
     "metadata": {},
     "output_type": "display_data"
    },
    {
     "name": "stdout",
     "output_type": "stream",
     "text": [
      "The pidgin extension is already loaded. To reload it, use:\n",
      "  %reload_ext pidgin\n",
      "<sweet.test.Result run=2 errors=1 failures=0>\n",
      "\n",
      "{<__main__.Test testMethod=testImports>: 'Traceback (most recent call last):\\n  File \"<ipython-input-4-bfa3932139bd>\", line 7, in testImports\\n    from utils import style\\nModuleNotFoundError: No module named \\'utils\\'\\n'}\n"
     ]
    }
   ],
   "source": [
    "    class Test(__import__('unittest').TestCase):\n",
    "        def testLitAF(Test):\n",
    "            import litaf\n",
    "            assert litaf.LiterateProgramming\n",
    "        def testImports(Test):\n",
    "            import references\n",
    "            from utils import style\n",
    "            assert references, style"
   ]
  },
  {
   "cell_type": "code",
   "execution_count": 5,
   "metadata": {},
   "outputs": [
    {
     "data": {
      "text/markdown": [
       "    if __name__ == '__main__':\n",
       "        !jupyter nbconvert --to markdown readme.ipynb\n",
       "    %pidgin --off markdown"
      ],
      "text/plain": [
       "<IPython.core.display.Markdown object>"
      ]
     },
     "metadata": {},
     "output_type": "display_data"
    },
    {
     "name": "stdout",
     "output_type": "stream",
     "text": [
      "[NbConvertApp] Converting notebook readme.ipynb to markdown\n",
      "[NbConvertApp] Writing 1429 bytes to readme.md\n"
     ]
    }
   ],
   "source": [
    "    if __name__ == '__main__':\n",
    "        !jupyter nbconvert --to markdown readme.ipynb\n",
    "    %pidgin --off markdown"
   ]
  },
  {
   "cell_type": "code",
   "execution_count": null,
   "metadata": {},
   "outputs": [],
   "source": []
  }
 ],
 "metadata": {
  "kernelspec": {
   "display_name": "p6",
   "language": "python",
   "name": "other-env"
  },
  "language_info": {
   "codemirror_mode": {
    "name": "ipython",
    "version": 3
   },
   "file_extension": ".py",
   "mimetype": "text/x-python",
   "name": "python",
   "nbconvert_exporter": "python",
   "pygments_lexer": "ipython3",
   "version": "3.6.3"
  }
 },
 "nbformat": 4,
 "nbformat_minor": 2
}
