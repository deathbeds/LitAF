{
 "cells": [
  {
   "cell_type": "markdown",
   "metadata": {},
   "source": [
    "# Open Source notebooks are a new social currency\n",
    "\n",
    "> _telecommunication will be as natural an extension of individual work as\n",
    "face-to-face communication is now (40). Perhaps tongue-in-cheek, he claims that life will then be happier and there will be no more unemployment because_ – [Annette Vee](http://www.annettevee.com/research/Vee_Computer-Programming-and-Literacy-An-Annotated-Bibliography.pdf)\n",
    "\n",
    ">> ## “the entire population of the world [will be] caught up in an infinite crescendo of on-line interactive debugging.”\n",
    ">> – JD Licklider, The Johnny Appleseed of Computing"
   ]
  },
  {
   "cell_type": "code",
   "execution_count": 4,
   "metadata": {},
   "outputs": [
    {
     "data": {
      "text/markdown": [
       "    if __name__ == '__main__':\n",
       "        %reload_ext pidgin\n",
       "        %pidgin markdown template conventions"
      ],
      "text/plain": [
       "<IPython.core.display.Markdown object>"
      ]
     },
     "metadata": {},
     "output_type": "display_data"
    }
   ],
   "source": [
    "    if __name__ == '__main__':\n",
    "        %reload_ext pidgin\n",
    "        %pidgin markdown template conventions"
   ]
  },
  {
   "cell_type": "code",
   "execution_count": 5,
   "metadata": {},
   "outputs": [
    {
     "data": {
      "text/markdown": [
       "# The Demo That Changed Communication Permenantly\n",
       "\n",
       "> [I have a console like this, and there are 12 others that are computer supplies.  And we try now-a-days to do our daily work on here.  So this characterizes the way I could sit here and look at a clear blank piece of paper, that's the way I start many projects.](https://github.com/atduskgreg/MoAD-Transcript/blob/master/20101020_moad_transcription_draft.txt#L7)\n",
       ">> [Doug Englebart's](http://americanhistory.si.edu/comphist/englebar.htm) [Mother of all Demos](https://www.youtube.com/watch?v=yJDv-zdhzMY)\n",
       "\n",
       "![](https://deiimages.files.wordpress.com/2016/03/first_mouse.jpg)"
      ],
      "text/plain": [
       "<IPython.core.display.Markdown object>"
      ]
     },
     "metadata": {},
     "output_type": "display_data"
    }
   ],
   "source": [
    "# The Demo That Changed Communication Permenantly\n",
    "\n",
    "> [I have a console like this, and there are 12 others that are computer supplies.  And we try now-a-days to do our daily work on here.  So this characterizes the way I could sit here and look at a clear blank piece of paper, that's the way I start many projects.](https://github.com/atduskgreg/MoAD-Transcript/blob/master/20101020_moad_transcription_draft.txt#L7)\n",
    ">> [Doug Englebart's](http://americanhistory.si.edu/comphist/englebar.htm) [Mother of all Demos](https://www.youtube.com/watch?v=yJDv-zdhzMY)\n",
    "\n",
    "![](https://deiimages.files.wordpress.com/2016/03/first_mouse.jpg)"
   ]
  },
  {
   "cell_type": "code",
   "execution_count": 6,
   "metadata": {},
   "outputs": [
    {
     "data": {
      "text/markdown": [
       "    https://blog.tidelift.com/open-source-is-everywhere-survey-results-part-1\n",
       "        \n",
       "# Open Source is Modern Infrastructure for Manufacturing Innovation"
      ],
      "text/plain": [
       "<IPython.core.display.Markdown object>"
      ]
     },
     "metadata": {},
     "output_type": "display_data"
    },
    {
     "data": {
      "text/html": [
       "\n",
       "        <iframe\n",
       "            width=\"800\"\n",
       "            height=\"600\"\n",
       "            src=\"https://blog.tidelift.com/open-source-is-everywhere-survey-results-part-1\"\n",
       "            frameborder=\"0\"\n",
       "            allowfullscreen\n",
       "        ></iframe>\n",
       "        "
      ],
      "text/plain": [
       "<IPython.lib.display.IFrame at 0x10d42ea58>"
      ]
     },
     "metadata": {},
     "output_type": "display_data"
    }
   ],
   "source": [
    "    https://blog.tidelift.com/open-source-is-everywhere-survey-results-part-1\n",
    "        \n",
    "# Open Source is Modern Infrastructure for Manufacturing Innovation"
   ]
  },
  {
   "cell_type": "code",
   "execution_count": 7,
   "metadata": {},
   "outputs": [
    {
     "data": {
      "text/markdown": [
       "    https://en.wikipedia.org/wiki/List_of_software_package_management_systems\n",
       "\n",
       "# Packages Managers provide access to open source infrastructure"
      ],
      "text/plain": [
       "<IPython.core.display.Markdown object>"
      ]
     },
     "metadata": {},
     "output_type": "display_data"
    },
    {
     "data": {
      "text/html": [
       "\n",
       "        <iframe\n",
       "            width=\"800\"\n",
       "            height=\"600\"\n",
       "            src=\"https://en.m.wikipedia.org/wiki/List_of_software_package_management_systems\"\n",
       "            frameborder=\"0\"\n",
       "            allowfullscreen\n",
       "        ></iframe>\n",
       "        "
      ],
      "text/plain": [
       "<IPython.lib.display.IFrame at 0x10dd6e5c0>"
      ]
     },
     "metadata": {},
     "output_type": "display_data"
    }
   ],
   "source": [
    "    https://en.wikipedia.org/wiki/List_of_software_package_management_systems\n",
    "\n",
    "# Packages Managers provide access to open source infrastructure"
   ]
  },
  {
   "cell_type": "code",
   "execution_count": 8,
   "metadata": {},
   "outputs": [
    {
     "data": {
      "text/markdown": [
       "# [PyPi got a facelift](https://pypi.org/)"
      ],
      "text/plain": [
       "<IPython.core.display.Markdown object>"
      ]
     },
     "metadata": {},
     "output_type": "display_data"
    }
   ],
   "source": [
    "# [PyPi got a facelift](https://pypi.org/)"
   ]
  },
  {
   "cell_type": "code",
   "execution_count": 9,
   "metadata": {},
   "outputs": [
    {
     "data": {
      "text/markdown": [
       "# Conda Forge\n",
       "\n",
       "A growing community of [conda packages](https://conda.io/docs/using/pkgs.html).\n",
       "    \n",
       "    import forge\n",
       "    forge.platforms"
      ],
      "text/plain": [
       "<IPython.core.display.Markdown object>"
      ]
     },
     "metadata": {},
     "output_type": "display_data"
    },
    {
     "data": {
      "text/html": [
       "<div>\n",
       "<style>\n",
       "    .dataframe thead tr:only-child th {\n",
       "        text-align: right;\n",
       "    }\n",
       "\n",
       "    .dataframe thead th {\n",
       "        text-align: left;\n",
       "    }\n",
       "\n",
       "    .dataframe tbody tr th {\n",
       "        vertical-align: top;\n",
       "    }\n",
       "</style>\n",
       "<table border=\"1\" class=\"dataframe\">\n",
       "  <thead>\n",
       "    <tr style=\"text-align: right;\">\n",
       "      <th>platform</th>\n",
       "      <th>linux</th>\n",
       "      <th>osx</th>\n",
       "      <th>win</th>\n",
       "    </tr>\n",
       "  </thead>\n",
       "  <tbody>\n",
       "    <tr>\n",
       "      <th>packages</th>\n",
       "      <td>3977</td>\n",
       "      <td>3939</td>\n",
       "      <td>3369</td>\n",
       "    </tr>\n",
       "  </tbody>\n",
       "</table>\n",
       "</div>"
      ],
      "text/plain": [
       "platform  linux   osx   win\n",
       "packages   3977  3939  3369"
      ]
     },
     "execution_count": 9,
     "metadata": {},
     "output_type": "execute_result"
    }
   ],
   "source": [
    "# Conda Forge\n",
    "\n",
    "A growing community of [conda packages](https://conda.io/docs/using/pkgs.html).\n",
    "    \n",
    "    import forge\n",
    "    forge.platforms"
   ]
  },
  {
   "cell_type": "code",
   "execution_count": 10,
   "metadata": {},
   "outputs": [
    {
     "data": {
      "text/markdown": [
       "    http://nbviewer.jupyter.org/"
      ],
      "text/plain": [
       "<IPython.core.display.Markdown object>"
      ]
     },
     "metadata": {},
     "output_type": "display_data"
    },
    {
     "data": {
      "text/html": [
       "\n",
       "        <iframe\n",
       "            width=\"800\"\n",
       "            height=\"600\"\n",
       "            src=\"http://nbviewer.jupyter.org/\"\n",
       "            frameborder=\"0\"\n",
       "            allowfullscreen\n",
       "        ></iframe>\n",
       "        "
      ],
      "text/plain": [
       "<IPython.lib.display.IFrame at 0x111dd6c88>"
      ]
     },
     "metadata": {},
     "output_type": "display_data"
    }
   ],
   "source": [
    "    http://nbviewer.jupyter.org/"
   ]
  },
  {
   "cell_type": "code",
   "execution_count": 11,
   "metadata": {},
   "outputs": [
    {
     "data": {
      "text/markdown": [
       "    https://blog.github.com/2015-05-07-github-jupyter-notebooks-3/"
      ],
      "text/plain": [
       "<IPython.core.display.Markdown object>"
      ]
     },
     "metadata": {},
     "output_type": "display_data"
    },
    {
     "data": {
      "text/html": [
       "\n",
       "        <iframe\n",
       "            width=\"800\"\n",
       "            height=\"600\"\n",
       "            src=\"https://blog.github.com/2015-05-07-github-jupyter-notebooks-3/\"\n",
       "            frameborder=\"0\"\n",
       "            allowfullscreen\n",
       "        ></iframe>\n",
       "        "
      ],
      "text/plain": [
       "<IPython.lib.display.IFrame at 0x111dd6e10>"
      ]
     },
     "metadata": {},
     "output_type": "display_data"
    }
   ],
   "source": [
    "    https://blog.github.com/2015-05-07-github-jupyter-notebooks-3/"
   ]
  },
  {
   "cell_type": "code",
   "execution_count": 35,
   "metadata": {},
   "outputs": [
    {
     "data": {
      "text/markdown": [
       "# Notebooks can export different formats for documentation and be source code\n",
       "\n",
       "    if __name__ == '__main__':\n",
       "        \n",
       "---\n",
       "\n",
       "> ## A successful open source community cannot exist without tests.  You cannot quote me on this.\n",
       ">> ## [Nick Bollweg](https://github.com/bollwyvl)\n",
       "\n",
       "---\n",
       "\n",
       "## Export Python and Run External Tests\n",
       "        !jupyter nbconvert --to python test_notebook.ipynb\n",
       "    \n",
       "### [Doctest](https://docs.python.org/3/library/doctest.html)\n",
       "\n",
       "Read more about Docstring conventions in [PEP 257](https://www.python.org/dev/peps/pep-0257/).\n",
       "        \n",
       "        !source activate p6 && python -m doctest test_notebook.py\n",
       "        print(\"\"\"Doctest Complete\"\"\")\n",
       "        \n",
       "### [Unittest](https://docs.python.org/2/library/unittest.html)\n",
       "    \n",
       "        !source activate p6 && python -m unittest test_notebook.py\n",
       "        print(\"\"\"Unittest and Doctests Complete\"\"\")\n",
       "\n",
       "## [pytest-ipynb](https://github.com/zonca/pytest-ipynb)\n",
       "\n",
       "Pytest does not require a duplicate of a notebook. Every cell is a test.\n",
       "\n",
       "    \n",
       "        !source activate p6 && pytest test_notebook.ipynb\n",
       "        print(\"\"\"PyTest Complete\"\"\")"
      ],
      "text/plain": [
       "<IPython.core.display.Markdown object>"
      ]
     },
     "metadata": {},
     "output_type": "display_data"
    },
    {
     "name": "stdout",
     "output_type": "stream",
     "text": [
      "[NbConvertApp] Converting notebook test_notebook.ipynb to python\n",
      "[NbConvertApp] Writing 331 bytes to test_notebook.py\n",
      "Doctest Complete\n",
      ".\n",
      "----------------------------------------------------------------------\n",
      "Ran 1 test in 0.002s\n",
      "\n",
      "OK\n",
      "Unittest and Doctests Complete\n",
      "\u001b[1m============================= test session starts ==============================\u001b[0m\n",
      "platform darwin -- Python 3.6.3, pytest-3.2.1, py-1.4.34, pluggy-0.4.0\n",
      "rootdir: /Users/tonyfast/_LitAF, inifile:\n",
      "plugins: smartcov-0.3, ipynb-1.1.0, hypothesis-3.44.6\n",
      "collected 3 items                                                               \u001b[0m\n",
      "\n",
      "test_notebook.ipynb ...\n",
      "\n",
      "\u001b[32m\u001b[1m=========================== 3 passed in 2.09 seconds ===========================\u001b[0m\n",
      "PyTest Complete\n"
     ]
    }
   ],
   "source": [
    "# Notebooks can export different formats for documentation and be source code\n",
    "\n",
    "    if __name__ == '__main__':\n",
    "        \n",
    "---\n",
    "\n",
    "> ## A successful open source community cannot exist without tests.  You cannot quote me on this.\n",
    ">> ## [Nick Bollweg](https://github.com/bollwyvl)\n",
    "\n",
    "---\n",
    "\n",
    "## Export Python and Run External Tests\n",
    "        !jupyter nbconvert --to python test_notebook.ipynb\n",
    "    \n",
    "### [Doctest](https://docs.python.org/3/library/doctest.html)\n",
    "\n",
    "Read more about Docstring conventions in [PEP 257](https://www.python.org/dev/peps/pep-0257/).\n",
    "        \n",
    "        !source activate p6 && python -m doctest test_notebook.py\n",
    "        print(\"\"\"Doctest Complete\"\"\")\n",
    "        \n",
    "### [Unittest](https://docs.python.org/2/library/unittest.html)\n",
    "    \n",
    "        !source activate p6 && python -m unittest test_notebook.py\n",
    "        print(\"\"\"Unittest and Doctests Complete\"\"\")\n",
    "\n",
    "## [pytest-ipynb](https://github.com/zonca/pytest-ipynb)\n",
    "\n",
    "Pytest does not require a duplicate of a notebook. Every cell is a test.\n",
    "\n",
    "    \n",
    "        !source activate p6 && pytest test_notebook.ipynb\n",
    "        print(\"\"\"PyTest Complete\"\"\")"
   ]
  },
  {
   "cell_type": "code",
   "execution_count": 34,
   "metadata": {},
   "outputs": [
    {
     "data": {
      "text/markdown": [
       "### [Robot Kernel](http://nbviewer.jupyter.org/github/datakurre/robotkernel/blob/master/examples/RESTinstance.ipynb)\n",
       "    \n",
       "    http://nbviewer.jupyter.org/github/datakurre/robotkernel/blob/master/examples/RESTinstance.ipynb"
      ],
      "text/plain": [
       "<IPython.core.display.Markdown object>"
      ]
     },
     "metadata": {},
     "output_type": "display_data"
    },
    {
     "data": {
      "text/html": [
       "\n",
       "        <iframe\n",
       "            width=\"800\"\n",
       "            height=\"600\"\n",
       "            src=\"http://nbviewer.jupyter.org/github/datakurre/robotkernel/blob/master/examples/RESTinstance.ipynb\"\n",
       "            frameborder=\"0\"\n",
       "            allowfullscreen\n",
       "        ></iframe>\n",
       "        "
      ],
      "text/plain": [
       "<IPython.lib.display.IFrame at 0x11b6dbc18>"
      ]
     },
     "metadata": {},
     "output_type": "display_data"
    }
   ],
   "source": [
    "### [Robot Kernel](http://nbviewer.jupyter.org/github/datakurre/robotkernel/blob/master/examples/RESTinstance.ipynb)\n",
    "    \n",
    "    http://nbviewer.jupyter.org/github/datakurre/robotkernel/blob/master/examples/RESTinstance.ipynb"
   ]
  },
  {
   "cell_type": "code",
   "execution_count": 21,
   "metadata": {},
   "outputs": [
    {
     "data": {
      "text/markdown": [
       "# Tests Can Be Executed Interactively\n",
       "\n",
       "    if __name__ == '__main__':\n",
       "        \n",
       "The `__name__ == '__main__'` is logic to separate interactive code from imported code.\n",
       "\n",
       "        import doctest, unittest\n",
       "        result = unittest.TestResult()\n",
       "    \n",
       "        class Test(unittest.TestCase):\n",
       "            \"\"\"This class has doctests\n",
       "            \"\"\"\n",
       "            def runTest(Test):\n",
       "                assert True\n",
       "                \n",
       "        Test().run(result)\n",
       "        print(f\"\"\"{result.testsRun} tests were run and with {len(result.failures)} failures.\"\"\")"
      ],
      "text/plain": [
       "<IPython.core.display.Markdown object>"
      ]
     },
     "metadata": {},
     "output_type": "display_data"
    },
    {
     "name": "stdout",
     "output_type": "stream",
     "text": [
      "1 tests were run and with 0 failures.\n"
     ]
    }
   ],
   "source": [
    "# Tests Can Be Executed Interactively\n",
    "\n",
    "    if __name__ == '__main__':\n",
    "        \n",
    "The `__name__ == '__main__'` is logic to separate interactive code from imported code.\n",
    "\n",
    "        import doctest, unittest\n",
    "        result = unittest.TestResult()\n",
    "    \n",
    "        class Test(unittest.TestCase):\n",
    "            \"\"\"This class has doctests\n",
    "            \"\"\"\n",
    "            def runTest(Test):\n",
    "                assert True\n",
    "                \n",
    "        Test().run(result)\n",
    "        print(f\"\"\"{result.testsRun} tests were run and with {len(result.failures)} failures.\"\"\")"
   ]
  },
  {
   "cell_type": "code",
   "execution_count": 23,
   "metadata": {},
   "outputs": [
    {
     "data": {
      "text/markdown": [
       "## [Hypothesis](http://hypothesis.readthedocs.io/) is the 💩!\n",
       "\n",
       "    from hypothesis import assume, given, strategies"
      ],
      "text/plain": [
       "<IPython.core.display.Markdown object>"
      ]
     },
     "metadata": {},
     "output_type": "display_data"
    }
   ],
   "source": [
    "## [Hypothesis](http://hypothesis.readthedocs.io/) is the 💩!\n",
    "\n",
    "    from hypothesis import assume, given, strategies"
   ]
  },
  {
   "cell_type": "code",
   "execution_count": 27,
   "metadata": {},
   "outputs": [
    {
     "data": {
      "text/markdown": [
       "# Testing and [Typing](http://mypy-lang.org/)\n",
       "\n",
       "...provide a core foundation for your future friends to reuse your ideas💡.\n",
       "\n",
       "> [MonkeyType](https://github.com/Instagram/MonkeyType) is 🔥"
      ],
      "text/plain": [
       "<IPython.core.display.Markdown object>"
      ]
     },
     "metadata": {},
     "output_type": "display_data"
    }
   ],
   "source": [
    "# Testing and [Typing](http://mypy-lang.org/)\n",
    "\n",
    "...provide a core foundation for your future friends to reuse your ideas💡.\n",
    "\n",
    "> [MonkeyType](https://github.com/Instagram/MonkeyType) is 🔥"
   ]
  },
  {
   "cell_type": "code",
   "execution_count": 29,
   "metadata": {},
   "outputs": [
    {
     "data": {
      "text/markdown": [
       "# Open Source Creates New Problems With Literacy\n",
       "\n",
       "The social pillar of literacy is critical to successful scientific innovations.  Social engagements are the best way to keep up with the critical mass of open source as to alleviate technical debt when the right technology comes along.\n",
       "\n",
       "> Like a financial debt, the technical debt incurs interest payments, which come in the form of the extra effort that we have to do in future development because of the quick and dirty design choice.\n",
       ">> [Martin Fowler](https://martinfowler.com/bliki/TechnicalDebt.html)"
      ],
      "text/plain": [
       "<IPython.core.display.Markdown object>"
      ]
     },
     "metadata": {},
     "output_type": "display_data"
    }
   ],
   "source": [
    "# Open Source Creates New Problems With Literacy\n",
    "\n",
    "The social pillar of literacy is critical to successful scientific innovations.  Social engagements are the best way to keep up with the critical mass of open source as to alleviate technical debt when the right technology comes along.\n",
    "\n",
    "> Like a financial debt, the technical debt incurs interest payments, which come in the form of the extra effort that we have to do in future development because of the quick and dirty design choice.\n",
    ">> [Martin Fowler](https://martinfowler.com/bliki/TechnicalDebt.html)"
   ]
  },
  {
   "cell_type": "code",
   "execution_count": 30,
   "metadata": {},
   "outputs": [
    {
     "data": {
      "text/markdown": [
       "# Bring a friend to your next meetup"
      ],
      "text/plain": [
       "<IPython.core.display.Markdown object>"
      ]
     },
     "metadata": {},
     "output_type": "display_data"
    }
   ],
   "source": [
    "# Bring a friend to your next meetup"
   ]
  },
  {
   "cell_type": "code",
   "execution_count": 31,
   "metadata": {},
   "outputs": [
    {
     "data": {
      "text/markdown": [
       "    https://www.meetup.com/pro/PyData"
      ],
      "text/plain": [
       "<IPython.core.display.Markdown object>"
      ]
     },
     "metadata": {},
     "output_type": "display_data"
    },
    {
     "data": {
      "text/html": [
       "\n",
       "        <iframe\n",
       "            width=\"800\"\n",
       "            height=\"600\"\n",
       "            src=\"https://www.meetup.com/pro/PyData\"\n",
       "            frameborder=\"0\"\n",
       "            allowfullscreen\n",
       "        ></iframe>\n",
       "        "
      ],
      "text/plain": [
       "<IPython.lib.display.IFrame at 0x11b6f67b8>"
      ]
     },
     "metadata": {},
     "output_type": "display_data"
    }
   ],
   "source": [
    "    https://www.meetup.com/pro/PyData"
   ]
  },
  {
   "cell_type": "code",
   "execution_count": 45,
   "metadata": {},
   "outputs": [
    {
     "data": {
      "text/markdown": [
       "[![](https://cdn-images-1.medium.com/max/1200/1*eBDo76BnRMrk-OHLzlSd6g.jpeg)](https://conferences.oreilly.com/jupyter/jup-ny)"
      ],
      "text/plain": [
       "<IPython.core.display.Markdown object>"
      ]
     },
     "metadata": {},
     "output_type": "display_data"
    }
   ],
   "source": [
    "[![](https://cdn-images-1.medium.com/max/1200/1*eBDo76BnRMrk-OHLzlSd6g.jpeg)](https://conferences.oreilly.com/jupyter/jup-ny)"
   ]
  },
  {
   "cell_type": "code",
   "execution_count": 25,
   "metadata": {},
   "outputs": [
    {
     "data": {
      "text/markdown": [
       "    http://norvig.com/21-days.html"
      ],
      "text/plain": [
       "<IPython.core.display.Markdown object>"
      ]
     },
     "metadata": {},
     "output_type": "display_data"
    },
    {
     "data": {
      "text/html": [
       "\n",
       "        <iframe\n",
       "            width=\"800\"\n",
       "            height=\"600\"\n",
       "            src=\"http://norvig.com/21-days.html\"\n",
       "            frameborder=\"0\"\n",
       "            allowfullscreen\n",
       "        ></iframe>\n",
       "        "
      ],
      "text/plain": [
       "<IPython.lib.display.IFrame at 0x11c1080f0>"
      ]
     },
     "metadata": {},
     "output_type": "display_data"
    }
   ],
   "source": [
    "    http://norvig.com/21-days.html"
   ]
  },
  {
   "cell_type": "code",
   "execution_count": null,
   "metadata": {},
   "outputs": [],
   "source": []
  }
 ],
 "metadata": {
  "kernelspec": {
   "display_name": "p6",
   "language": "python",
   "name": "other-env"
  },
  "language_info": {
   "codemirror_mode": {
    "name": "ipython",
    "version": 3
   },
   "file_extension": ".py",
   "mimetype": "text/x-python",
   "name": "python",
   "nbconvert_exporter": "python",
   "pygments_lexer": "ipython3",
   "version": "3.6.3"
  }
 },
 "nbformat": 4,
 "nbformat_minor": 2
}
