{
 "cells": [
  {
   "cell_type": "markdown",
   "metadata": {},
   "source": [
    "# After Open Source notebooks become a new social currency\n",
    "\n",
    "> _telecommunication will be as natural an extension of individual work as\n",
    "face-to-face communication is now (40). Perhaps tongue-in-cheek, he claims that life will then be happier and there will be no more unemployment because_ – [Annette Vee](http://www.annettevee.com/research/Vee_Computer-Programming-and-Literacy-An-Annotated-Bibliography.pdf)\n",
    "\n",
    ">> ## “the entire population of the world [will be] caught up in an infinite crescendo of on-line interactive debugging.”\n",
    ">> – JD Licklider, The Johnny Appleseed of Computing"
   ]
  },
  {
   "cell_type": "code",
   "execution_count": 6,
   "metadata": {},
   "outputs": [],
   "source": [
    "    if __name__ == '__main__':\n",
    "        %reload_ext pidgin\n",
    "        %pidgin @../macros"
   ]
  },
  {
   "cell_type": "code",
   "execution_count": 8,
   "metadata": {},
   "outputs": [
    {
     "data": {
      "text/markdown": [
       "# [Doug Englebart's](http://americanhistory.si.edu/comphist/englebar.htm) [Mother of all Demos](https://www.youtube.com/watch?v=yJDv-zdhzMY) Changed Communication Permenantly\n",
       "\n",
       "![](https://deiimages.files.wordpress.com/2016/03/first_mouse.jpg)"
      ],
      "text/plain": [
       "<IPython.core.display.Markdown object>"
      ]
     },
     "metadata": {},
     "output_type": "display_data"
    }
   ],
   "source": [
    "# [Doug Englebart's](http://americanhistory.si.edu/comphist/englebar.htm) [Mother of all Demos](https://www.youtube.com/watch?v=yJDv-zdhzMY) Changed Communication Permenantly\n",
    "\n",
    "![](https://deiimages.files.wordpress.com/2016/03/first_mouse.jpg)"
   ]
  },
  {
   "cell_type": "code",
   "execution_count": 12,
   "metadata": {},
   "outputs": [
    {
     "data": {
      "text/markdown": [
       "    https://blog.tidelift.com/open-source-is-everywhere-survey-results-part-1\n",
       "        \n",
       "# Open Source is Modern Infrastructure for Manufacturing Innovation"
      ],
      "text/plain": [
       "<IPython.core.display.Markdown object>"
      ]
     },
     "metadata": {},
     "output_type": "display_data"
    },
    {
     "data": {
      "text/html": [
       "\n",
       "        <iframe\n",
       "            width=\"800\"\n",
       "            height=\"600\"\n",
       "            src=\"https://blog.tidelift.com/open-source-is-everywhere-survey-results-part-1\"\n",
       "            frameborder=\"0\"\n",
       "            allowfullscreen\n",
       "        ></iframe>\n",
       "        "
      ],
      "text/plain": [
       "<IPython.lib.display.IFrame at 0x10857e2e8>"
      ]
     },
     "metadata": {},
     "output_type": "display_data"
    }
   ],
   "source": [
    "    https://blog.tidelift.com/open-source-is-everywhere-survey-results-part-1\n",
    "        \n",
    "# Open Source is Modern Infrastructure for Manufacturing Innovation"
   ]
  },
  {
   "cell_type": "code",
   "execution_count": null,
   "metadata": {},
   "outputs": [],
   "source": []
  }
 ],
 "metadata": {
  "kernelspec": {
   "display_name": "p6",
   "language": "python",
   "name": "other-env"
  },
  "language_info": {
   "codemirror_mode": {
    "name": "ipython",
    "version": 3
   },
   "file_extension": ".py",
   "mimetype": "text/x-python",
   "name": "python",
   "nbconvert_exporter": "python",
   "pygments_lexer": "ipython3",
   "version": "3.6.3"
  }
 },
 "nbformat": 4,
 "nbformat_minor": 2
}
