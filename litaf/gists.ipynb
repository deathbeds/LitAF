{
 "cells": [
  {
   "cell_type": "code",
   "execution_count": 1,
   "metadata": {},
   "outputs": [],
   "source": [
    "    from poser import *\n",
    "    if __name__ == '__main__':\n",
    "        %reload_ext pidgin\n",
    "        %pidgin @../macros    \n",
    "    __file__ = globals().get('__file__', 'gists.ipynb')\n",
    "    the.requests_cache.install_cache('gists')()"
   ]
  },
  {
   "cell_type": "code",
   "execution_count": 2,
   "metadata": {},
   "outputs": [
    {
     "data": {
      "text/markdown": [
       "    user = \"tonyfast\"\n",
       "    api = f\"\"\"https://api.github.com/users/{user}/gists?page=\"\"\""
      ],
      "text/plain": [
       "<IPython.core.display.Markdown object>"
      ]
     },
     "metadata": {},
     "output_type": "display_data"
    }
   ],
   "source": [
    "    user = \"tonyfast\"\n",
    "    api = f\"\"\"https://api.github.com/users/{user}/gists?page=\"\"\""
   ]
  },
  {
   "cell_type": "code",
   "execution_count": 3,
   "metadata": {},
   "outputs": [
    {
     "data": {
      "text/markdown": [
       "    get = a.requests.get().methodcaller('json')"
      ],
      "text/plain": [
       "<IPython.core.display.Markdown object>"
      ]
     },
     "metadata": {},
     "output_type": "display_data"
    }
   ],
   "source": [
    "    get = a.requests.get().methodcaller('json')"
   ]
  },
  {
   "cell_type": "code",
   "execution_count": 7,
   "metadata": {},
   "outputs": [
    {
     "data": {
      "text/markdown": [
       "    gists, page = [], 1\n",
       "    while not gists or len(gists[-1]) is 30:\n",
       "        __name__ == '__main__' and print(page)\n",
       "        gists.append(get(f\"{api}{page}\"))\n",
       "        page+=1\n",
       "    df = a.concat().list().pandas.DataFrame()(gists)\n",
       "    "
      ],
      "text/plain": [
       "<IPython.core.display.Markdown object>"
      ]
     },
     "metadata": {},
     "output_type": "display_data"
    },
    {
     "name": "stdout",
     "output_type": "stream",
     "text": [
      "1\n",
      "2\n",
      "3\n",
      "4\n",
      "5\n",
      "6\n",
      "7\n",
      "8\n",
      "9\n",
      "10\n",
      "11\n",
      "12\n",
      "13\n",
      "14\n",
      "15\n",
      "16\n",
      "17\n"
     ]
    }
   ],
   "source": [
    "    gists, page = [], 1\n",
    "    while not gists or len(gists[-1]) is 30:\n",
    "        __name__ == '__main__' and print(page)\n",
    "        gists.append(get(f\"{api}{page}\"))\n",
    "        page+=1\n",
    "    df = a.concat().list().pandas.DataFrame()(gists)\n",
    "    "
   ]
  },
  {
   "cell_type": "markdown",
   "metadata": {},
   "source": [
    "Unravel the files"
   ]
  },
  {
   "cell_type": "code",
   "execution_count": 8,
   "metadata": {},
   "outputs": [
    {
     "data": {
      "text/markdown": [
       "    df = df.files.apply(dict.values * a.list().pandas.Series()).unstack().dropna().apply(a.pandas.Series()).reset_index(0, drop=True).sort_index().pipe(df.join)"
      ],
      "text/plain": [
       "<IPython.core.display.Markdown object>"
      ]
     },
     "metadata": {},
     "output_type": "display_data"
    }
   ],
   "source": [
    "    df = df.files.apply(dict.values * a.list().pandas.Series()).unstack().dropna().apply(a.pandas.Series()).reset_index(0, drop=True).sort_index().pipe(df.join)"
   ]
  }
 ],
 "metadata": {
  "kernelspec": {
   "display_name": "p6",
   "language": "python",
   "name": "other-env"
  },
  "language_info": {
   "codemirror_mode": {
    "name": "ipython",
    "version": 3
   },
   "file_extension": ".py",
   "mimetype": "text/x-python",
   "name": "python",
   "nbconvert_exporter": "python",
   "pygments_lexer": "ipython3",
   "version": "3.6.3"
  }
 },
 "nbformat": 4,
 "nbformat_minor": 2
}
