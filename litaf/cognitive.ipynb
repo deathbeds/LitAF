{
 "cells": [
  {
   "cell_type": "markdown",
   "metadata": {},
   "source": [
    "## Notebooks are a Style of Knowledge Sharing\n",
    "\n",
    "Notebooks are infrastructure for symbollic expression.\n",
    "\n",
    "[![](http://archives-dc.library.caltech.edu/islandora/object/ct1%3A483/datastream/JPG/view)](http://archives-dc.library.caltech.edu/islandora/object/ct1:483)"
   ]
  },
  {
   "cell_type": "code",
   "execution_count": 1,
   "metadata": {},
   "outputs": [],
   "source": [
    "    from poser import *\n",
    "    if __name__ == '__main__':\n",
    "        %reload_ext pidgin\n",
    "        %pidgin @../macros    \n",
    "        %matplotlib inline\n",
    "    __file__ = globals().get('__file__', 'cognitive.ipynb')"
   ]
  },
  {
   "cell_type": "code",
   "execution_count": 2,
   "metadata": {},
   "outputs": [
    {
     "data": {
      "text/markdown": [
       "    try: from . import gists\n",
       "    except: import gists\n",
       "\n",
       "# I ❤️ Notebooks\n",
       "    \n",
       "    gists.df.language.value_counts().sort_values(ascending=False).plot.bar(figsize=(20, 6), grid=True)\n",
       "    def testMyNotebooks(): assert gists.df.language.value_counts().loc['Jupyter Notebook'] > 300, f\"\"\"Get a life {gists.user}\"\"\""
      ],
      "text/plain": [
       "<IPython.core.display.Markdown object>"
      ]
     },
     "metadata": {},
     "output_type": "display_data"
    },
    {
     "data": {
      "image/png": "[encoded data removed]",
      "text/plain": [
       "<matplotlib.figure.Figure at 0x10e938e48>"
      ]
     },
     "metadata": {},
     "output_type": "display_data"
    },
    {
     "name": "stdout",
     "output_type": "stream",
     "text": [
      "<sweet.test.Result run=1 errors=0 failures=0>\n"
     ]
    }
   ],
   "source": [
    "    try: from . import gists\n",
    "    except: import gists\n",
    "\n",
    "# I ❤️ Notebooks\n",
    "    \n",
    "    gists.df.language.value_counts().sort_values(ascending=False).plot.bar(figsize=(20, 6), grid=True)\n",
    "    def testMyNotebooks(): assert gists.df.language.value_counts().loc['Jupyter Notebook'] > 300, f\"\"\"Get a life {gists.user}\"\"\""
   ]
  },
  {
   "cell_type": "code",
   "execution_count": 3,
   "metadata": {},
   "outputs": [
    {
     "data": {
      "text/markdown": [
       "# Y'all ❤️ Notebooks\n",
       "    \n",
       "    nbestimate = \"http://nbviewer.jupyter.org/github/parente/nbestimate/blob/master/estimate.ipynb\"\n",
       "    nb_count = the.pandas.read_html(nbestimate).first()()\n",
       "    def testNbestimates(): assert gists.df.language.value_counts().loc['Jupyter Notebook'] > 300, f\"\"\"Get a life {gists.user}\"\"\""
      ],
      "text/plain": [
       "<IPython.core.display.Markdown object>"
      ]
     },
     "metadata": {},
     "output_type": "display_data"
    },
    {
     "name": "stdout",
     "output_type": "stream",
     "text": [
      "<sweet.test.Result run=1 errors=0 failures=0>\n"
     ]
    }
   ],
   "source": [
    "# Y'all ❤️ Notebooks\n",
    "    \n",
    "    nbestimate = \"http://nbviewer.jupyter.org/github/parente/nbestimate/blob/master/estimate.ipynb\"\n",
    "    nb_count = the.pandas.read_html(nbestimate).first()()\n",
    "    def testNbestimates(): assert gists.df.language.value_counts().loc['Jupyter Notebook'] > 300, f\"\"\"Get a life {gists.user}\"\"\""
   ]
  },
  {
   "cell_type": "code",
   "execution_count": 4,
   "metadata": {},
   "outputs": [
    {
     "data": {
      "text/markdown": [
       "    http://nbviewer.jupyter.org/github/parente/nbestimate/blob/master/estimate.ipynb\n",
       "    \n",
       "# [@parente]()'s `nbestimate`\n",
       "    "
      ],
      "text/plain": [
       "<IPython.core.display.Markdown object>"
      ]
     },
     "metadata": {},
     "output_type": "display_data"
    },
    {
     "data": {
      "text/html": [
       "\n",
       "        <iframe\n",
       "            width=\"800\"\n",
       "            height=\"600\"\n",
       "            src=\"http://nbviewer.jupyter.org/github/parente/nbestimate/blob/master/estimate.ipynb\"\n",
       "            frameborder=\"0\"\n",
       "            allowfullscreen\n",
       "        ></iframe>\n",
       "        "
      ],
      "text/plain": [
       "<IPython.lib.display.IFrame at 0x111316b38>"
      ]
     },
     "metadata": {},
     "output_type": "display_data"
    }
   ],
   "source": [
    "    {{nbestimate}}\n",
    "    \n",
    "# [@parente]()'s `nbestimate`\n",
    "    "
   ]
  },
  {
   "cell_type": "code",
   "execution_count": 5,
   "metadata": {},
   "outputs": [
    {
     "data": {
      "text/html": [
       "\n",
       "        <iframe\n",
       "            width=\"800\"\n",
       "            height=\"600\"\n",
       "            src=\"https://sinews.siam.org/Details-Page/jupyter-tools-for-the-life-cycle-of-a-computational-idea-5\"\n",
       "            frameborder=\"0\"\n",
       "            allowfullscreen\n",
       "        ></iframe>\n",
       "        "
      ],
      "text/plain": [
       "<IPython.lib.display.IFrame at 0x117807828>"
      ]
     },
     "metadata": {},
     "output_type": "display_data"
    }
   ],
   "source": [
    "    \n",
    "    https://sinews.siam.org/Details-Page/jupyter-tools-for-the-life-cycle-of-a-computational-idea-5"
   ]
  },
  {
   "cell_type": "code",
   "execution_count": 6,
   "metadata": {},
   "outputs": [
    {
     "data": {
      "text/markdown": [
       "# Literacy Makes Programming a Human Problem\n",
       "\n",
       "> Computational literacy builds on textual literacy because it entails textual writing and reading, but it is also quite distinct from textual literacy. In programming, one must build structures out of explicitly de ned components. As Wittgenstein argued, human language works differently: not through explicit definitions, but through use and exchange.\n",
       ">> [Annette Vee - Understanding Computer programming as a Literacy](http://licsjournal.org/OJS/index.php/LiCS/article/view/24/26)"
      ],
      "text/plain": [
       "<IPython.core.display.Markdown object>"
      ]
     },
     "metadata": {},
     "output_type": "display_data"
    }
   ],
   "source": [
    "# Literacy Makes Programming a Human Problem\n",
    "\n",
    "> Computational literacy builds on textual literacy because it entails textual writing and reading, but it is also quite distinct from textual literacy. In programming, one must build structures out of explicitly de ned components. As Wittgenstein argued, human language works differently: not through explicit definitions, but through use and exchange.\n",
    ">> [Annette Vee - Understanding Computer programming as a Literacy](http://licsjournal.org/OJS/index.php/LiCS/article/view/24/26)\n"
   ]
  },
  {
   "cell_type": "code",
   "execution_count": 7,
   "metadata": {},
   "outputs": [
    {
     "data": {
      "image/svg+xml": [
       "<?xml version=\"1.0\" encoding=\"UTF-8\" standalone=\"no\"?>\n",
       "<!DOCTYPE svg PUBLIC \"-//W3C//DTD SVG 1.1//EN\"\n",
       " \"http://www.w3.org/Graphics/SVG/1.1/DTD/svg11.dtd\">\n",
       "<!-- Generated by graphviz version 2.38.0 (20140413.2041)\n",
       " -->\n",
       "<!-- Title: %3 Pages: 1 -->\n",
       "<svg width=\"695pt\" height=\"478pt\"\n",
       " viewBox=\"0.00 0.00 694.91 478.00\" xmlns=\"http://www.w3.org/2000/svg\" xmlns:xlink=\"http://www.w3.org/1999/xlink\">\n",
       "<g id=\"graph0\" class=\"graph\" transform=\"scale(1 1) rotate(0) translate(4 474)\">\n",
       "<title>%3</title>\n",
       "<polygon fill=\"white\" stroke=\"none\" points=\"-4,4 -4,-474 690.914,-474 690.914,4 -4,4\"/>\n",
       "<g id=\"clust3\" class=\"cluster\"><title>cluster_repl</title>\n",
       "<polygon fill=\"none\" stroke=\"black\" points=\"188.914,-64 188.914,-354 304.914,-354 304.914,-64 188.914,-64\"/>\n",
       "<text text-anchor=\"middle\" x=\"246.914\" y=\"-338.8\" font-family=\"Times,serif\" font-size=\"14.00\">REPL</text>\n",
       "</g>\n",
       "<!-- Literacy -->\n",
       "<g id=\"node1\" class=\"node\"><title>Literacy</title>\n",
       "<ellipse fill=\"none\" stroke=\"black\" cx=\"197.914\" cy=\"-452\" rx=\"39.6299\" ry=\"18\"/>\n",
       "<text text-anchor=\"middle\" x=\"197.914\" y=\"-447.8\" font-family=\"Times,serif\" font-size=\"14.00\">Literacy</text>\n",
       "</g>\n",
       "<!-- Textual -->\n",
       "<g id=\"node2\" class=\"node\"><title>Textual</title>\n",
       "<ellipse fill=\"none\" stroke=\"black\" cx=\"139.914\" cy=\"-380\" rx=\"36.4981\" ry=\"18\"/>\n",
       "<text text-anchor=\"middle\" x=\"139.914\" y=\"-375.8\" font-family=\"Times,serif\" font-size=\"14.00\">Textual</text>\n",
       "</g>\n",
       "<!-- Literacy&#45;&gt;Textual -->\n",
       "<g id=\"edge1\" class=\"edge\"><title>Literacy&#45;&gt;Textual</title>\n",
       "<path fill=\"none\" stroke=\"black\" d=\"M184.461,-434.765C177.141,-425.93 167.944,-414.83 159.81,-405.014\"/>\n",
       "<polygon fill=\"black\" stroke=\"black\" points=\"162.368,-402.614 153.293,-397.147 156.978,-407.081 162.368,-402.614\"/>\n",
       "</g>\n",
       "<!-- Computational -->\n",
       "<g id=\"node3\" class=\"node\"><title>Computational</title>\n",
       "<ellipse fill=\"none\" stroke=\"black\" cx=\"256.914\" cy=\"-380\" rx=\"62.8425\" ry=\"18\"/>\n",
       "<text text-anchor=\"middle\" x=\"256.914\" y=\"-375.8\" font-family=\"Times,serif\" font-size=\"14.00\">Computational</text>\n",
       "</g>\n",
       "<!-- Literacy&#45;&gt;Computational -->\n",
       "<g id=\"edge2\" class=\"edge\"><title>Literacy&#45;&gt;Computational</title>\n",
       "<path fill=\"none\" stroke=\"black\" d=\"M211.598,-434.765C218.938,-426.056 228.133,-415.147 236.318,-405.435\"/>\n",
       "<polygon fill=\"black\" stroke=\"black\" points=\"239.125,-407.535 242.894,-397.633 233.773,-403.024 239.125,-407.535\"/>\n",
       "</g>\n",
       "<!-- Markdown -->\n",
       "<g id=\"node4\" class=\"node\"><title>Markdown</title>\n",
       "<ellipse fill=\"none\" stroke=\"black\" cx=\"48.9136\" cy=\"-306\" rx=\"48.8273\" ry=\"18\"/>\n",
       "<text text-anchor=\"middle\" x=\"48.9136\" y=\"-301.8\" font-family=\"Times,serif\" font-size=\"14.00\">Markdown</text>\n",
       "</g>\n",
       "<!-- Textual&#45;&gt;Markdown -->\n",
       "<g id=\"edge3\" class=\"edge\"><title>Textual&#45;&gt;Markdown</title>\n",
       "<path fill=\"none\" stroke=\"black\" d=\"M120.638,-364.564C116.114,-361.13 111.326,-357.458 106.914,-354 96.6324,-345.943 85.4573,-336.946 75.6854,-328.997\"/>\n",
       "<polygon fill=\"black\" stroke=\"black\" points=\"77.8184,-326.221 67.8575,-322.611 73.3932,-331.644 77.8184,-326.221\"/>\n",
       "</g>\n",
       "<!-- Latex -->\n",
       "<g id=\"node5\" class=\"node\"><title>Latex</title>\n",
       "<ellipse fill=\"none\" stroke=\"black\" cx=\"145.914\" cy=\"-306\" rx=\"30.4775\" ry=\"18\"/>\n",
       "<text text-anchor=\"middle\" x=\"145.914\" y=\"-301.8\" font-family=\"Times,serif\" font-size=\"14.00\">Latex</text>\n",
       "</g>\n",
       "<!-- Textual&#45;&gt;Latex -->\n",
       "<g id=\"edge4\" class=\"edge\"><title>Textual&#45;&gt;Latex</title>\n",
       "<path fill=\"none\" stroke=\"black\" d=\"M141.335,-361.937C142.013,-353.807 142.841,-343.876 143.605,-334.705\"/>\n",
       "<polygon fill=\"black\" stroke=\"black\" points=\"147.118,-334.697 144.46,-324.441 140.142,-334.115 147.118,-334.697\"/>\n",
       "</g>\n",
       "<!-- read -->\n",
       "<g id=\"node6\" class=\"node\"><title>read</title>\n",
       "<ellipse fill=\"none\" stroke=\"black\" cx=\"256.914\" cy=\"-306\" rx=\"27\" ry=\"18\"/>\n",
       "<text text-anchor=\"middle\" x=\"256.914\" y=\"-301.8\" font-family=\"Times,serif\" font-size=\"14.00\">read</text>\n",
       "</g>\n",
       "<!-- Computational&#45;&gt;read -->\n",
       "<g id=\"edge9\" class=\"edge\"><title>Computational&#45;&gt;read</title>\n",
       "<path fill=\"none\" stroke=\"black\" d=\"M256.914,-361.937C256.914,-353.807 256.914,-343.876 256.914,-334.705\"/>\n",
       "<polygon fill=\"black\" stroke=\"black\" points=\"260.414,-334.441 256.914,-324.441 253.414,-334.441 260.414,-334.441\"/>\n",
       "</g>\n",
       "<!-- evaluate -->\n",
       "<g id=\"node7\" class=\"node\"><title>evaluate</title>\n",
       "<ellipse fill=\"none\" stroke=\"black\" cx=\"256.914\" cy=\"-234\" rx=\"39.6299\" ry=\"18\"/>\n",
       "<text text-anchor=\"middle\" x=\"256.914\" y=\"-229.8\" font-family=\"Times,serif\" font-size=\"14.00\">evaluate</text>\n",
       "</g>\n",
       "<!-- read&#45;&gt;evaluate -->\n",
       "<g id=\"edge5\" class=\"edge\"><title>read&#45;&gt;evaluate</title>\n",
       "<path fill=\"none\" stroke=\"black\" d=\"M256.914,-287.697C256.914,-279.983 256.914,-270.712 256.914,-262.112\"/>\n",
       "<polygon fill=\"black\" stroke=\"black\" points=\"260.414,-262.104 256.914,-252.104 253.414,-262.104 260.414,-262.104\"/>\n",
       "</g>\n",
       "<!-- documentation -->\n",
       "<g id=\"node11\" class=\"node\"><title>documentation</title>\n",
       "<ellipse fill=\"none\" stroke=\"black\" cx=\"376.914\" cy=\"-234\" rx=\"62.8252\" ry=\"18\"/>\n",
       "<text text-anchor=\"middle\" x=\"376.914\" y=\"-229.8\" font-family=\"Times,serif\" font-size=\"14.00\">documentation</text>\n",
       "</g>\n",
       "<!-- read&#45;&gt;documentation -->\n",
       "<g id=\"edge11\" class=\"edge\"><title>read&#45;&gt;documentation</title>\n",
       "<path fill=\"none\" stroke=\"black\" d=\"M276.729,-293.441C294.32,-283.18 320.44,-267.943 341.598,-255.6\"/>\n",
       "<polygon fill=\"black\" stroke=\"black\" points=\"343.449,-258.573 350.324,-250.511 339.922,-252.526 343.449,-258.573\"/>\n",
       "</g>\n",
       "<!-- print -->\n",
       "<g id=\"node8\" class=\"node\"><title>print</title>\n",
       "<ellipse fill=\"none\" stroke=\"black\" cx=\"256.914\" cy=\"-162\" rx=\"27\" ry=\"18\"/>\n",
       "<text text-anchor=\"middle\" x=\"256.914\" y=\"-157.8\" font-family=\"Times,serif\" font-size=\"14.00\">print</text>\n",
       "</g>\n",
       "<!-- evaluate&#45;&gt;print -->\n",
       "<g id=\"edge6\" class=\"edge\"><title>evaluate&#45;&gt;print</title>\n",
       "<path fill=\"none\" stroke=\"black\" d=\"M256.914,-215.697C256.914,-207.983 256.914,-198.712 256.914,-190.112\"/>\n",
       "<polygon fill=\"black\" stroke=\"black\" points=\"260.414,-190.104 256.914,-180.104 253.414,-190.104 260.414,-190.104\"/>\n",
       "</g>\n",
       "<!-- test -->\n",
       "<g id=\"node10\" class=\"node\"><title>test</title>\n",
       "<ellipse fill=\"none\" stroke=\"black\" cx=\"339.914\" cy=\"-162\" rx=\"27\" ry=\"18\"/>\n",
       "<text text-anchor=\"middle\" x=\"339.914\" y=\"-157.8\" font-family=\"Times,serif\" font-size=\"14.00\">test</text>\n",
       "</g>\n",
       "<!-- evaluate&#45;&gt;test -->\n",
       "<g id=\"edge10\" class=\"edge\"><title>evaluate&#45;&gt;test</title>\n",
       "<path fill=\"none\" stroke=\"black\" d=\"M274.923,-217.811C287.005,-207.622 303.048,-194.092 316.171,-183.024\"/>\n",
       "<polygon fill=\"black\" stroke=\"black\" points=\"318.515,-185.626 323.903,-176.503 314.002,-180.275 318.515,-185.626\"/>\n",
       "</g>\n",
       "<!-- loop -->\n",
       "<g id=\"node9\" class=\"node\"><title>loop</title>\n",
       "<ellipse fill=\"none\" stroke=\"black\" cx=\"223.914\" cy=\"-90\" rx=\"27\" ry=\"18\"/>\n",
       "<text text-anchor=\"middle\" x=\"223.914\" y=\"-85.8\" font-family=\"Times,serif\" font-size=\"14.00\">loop</text>\n",
       "</g>\n",
       "<!-- print&#45;&gt;loop -->\n",
       "<g id=\"edge7\" class=\"edge\"><title>print&#45;&gt;loop</title>\n",
       "<path fill=\"none\" stroke=\"black\" d=\"M249.093,-144.411C245.189,-136.129 240.378,-125.925 236.011,-116.662\"/>\n",
       "<polygon fill=\"black\" stroke=\"black\" points=\"239.108,-115.023 231.678,-107.47 232.776,-118.008 239.108,-115.023\"/>\n",
       "</g>\n",
       "<!-- display -->\n",
       "<g id=\"node12\" class=\"node\"><title>display</title>\n",
       "<ellipse fill=\"none\" stroke=\"black\" cx=\"419.914\" cy=\"-90\" rx=\"35.806\" ry=\"18\"/>\n",
       "<text text-anchor=\"middle\" x=\"419.914\" y=\"-85.8\" font-family=\"Times,serif\" font-size=\"14.00\">display</text>\n",
       "</g>\n",
       "<!-- print&#45;&gt;display -->\n",
       "<g id=\"edge12\" class=\"edge\"><title>print&#45;&gt;display</title>\n",
       "<path fill=\"none\" stroke=\"black\" d=\"M279.236,-151.414C306.26,-139.808 352.117,-120.115 384.103,-106.379\"/>\n",
       "<polygon fill=\"black\" stroke=\"black\" points=\"385.74,-109.485 393.548,-102.323 382.978,-103.053 385.74,-109.485\"/>\n",
       "</g>\n",
       "<!-- loop&#45;&gt;read -->\n",
       "<g id=\"edge8\" class=\"edge\"><title>loop&#45;&gt;read</title>\n",
       "<path fill=\"none\" stroke=\"black\" d=\"M217.392,-107.676C206.696,-137.689 188.46,-202.302 207.914,-252 212.838,-264.581 222.306,-275.965 231.616,-284.929\"/>\n",
       "<polygon fill=\"black\" stroke=\"black\" points=\"229.529,-287.76 239.297,-291.863 234.219,-282.564 229.529,-287.76\"/>\n",
       "</g>\n",
       "<!-- interact -->\n",
       "<g id=\"node13\" class=\"node\"><title>interact</title>\n",
       "<ellipse fill=\"none\" stroke=\"black\" cx=\"152.914\" cy=\"-18\" rx=\"36.7403\" ry=\"18\"/>\n",
       "<text text-anchor=\"middle\" x=\"152.914\" y=\"-13.8\" font-family=\"Times,serif\" font-size=\"14.00\">interact</text>\n",
       "</g>\n",
       "<!-- loop&#45;&gt;interact -->\n",
       "<g id=\"edge13\" class=\"edge\"><title>loop&#45;&gt;interact</title>\n",
       "<path fill=\"none\" stroke=\"black\" d=\"M209.202,-74.496C199.566,-64.9951 186.774,-52.3831 175.82,-41.5833\"/>\n",
       "<polygon fill=\"black\" stroke=\"black\" points=\"178.169,-38.985 168.591,-34.4566 173.255,-43.9697 178.169,-38.985\"/>\n",
       "</g>\n",
       "<!-- HTML -->\n",
       "<g id=\"node14\" class=\"node\"><title>HTML</title>\n",
       "<ellipse fill=\"none\" stroke=\"black\" cx=\"242.914\" cy=\"-18\" rx=\"35.3216\" ry=\"18\"/>\n",
       "<text text-anchor=\"middle\" x=\"242.914\" y=\"-13.8\" font-family=\"Times,serif\" font-size=\"14.00\">HTML</text>\n",
       "</g>\n",
       "<!-- display&#45;&gt;HTML -->\n",
       "<g id=\"edge14\" class=\"edge\"><title>display&#45;&gt;HTML</title>\n",
       "<path fill=\"none\" stroke=\"black\" d=\"M392.645,-78.2159C362.284,-66.2085 313.063,-46.7429 279.403,-33.4307\"/>\n",
       "<polygon fill=\"black\" stroke=\"black\" points=\"280.509,-30.1045 269.922,-29.6815 277.934,-36.6139 280.509,-30.1045\"/>\n",
       "</g>\n",
       "<!-- Images -->\n",
       "<g id=\"node15\" class=\"node\"><title>Images</title>\n",
       "<ellipse fill=\"none\" stroke=\"black\" cx=\"331.914\" cy=\"-18\" rx=\"35.7887\" ry=\"18\"/>\n",
       "<text text-anchor=\"middle\" x=\"331.914\" y=\"-13.8\" font-family=\"Times,serif\" font-size=\"14.00\">Images</text>\n",
       "</g>\n",
       "<!-- display&#45;&gt;Images -->\n",
       "<g id=\"edge15\" class=\"edge\"><title>display&#45;&gt;Images</title>\n",
       "<path fill=\"none\" stroke=\"black\" d=\"M401.68,-74.496C389.055,-64.4532 372.06,-50.9344 358.004,-39.7541\"/>\n",
       "<polygon fill=\"black\" stroke=\"black\" points=\"360.129,-36.9716 350.124,-33.4855 355.771,-42.4498 360.129,-36.9716\"/>\n",
       "</g>\n",
       "<!-- Videos -->\n",
       "<g id=\"node16\" class=\"node\"><title>Videos</title>\n",
       "<ellipse fill=\"none\" stroke=\"black\" cx=\"419.914\" cy=\"-18\" rx=\"34.7678\" ry=\"18\"/>\n",
       "<text text-anchor=\"middle\" x=\"419.914\" y=\"-13.8\" font-family=\"Times,serif\" font-size=\"14.00\">Videos</text>\n",
       "</g>\n",
       "<!-- display&#45;&gt;Videos -->\n",
       "<g id=\"edge16\" class=\"edge\"><title>display&#45;&gt;Videos</title>\n",
       "<path fill=\"none\" stroke=\"black\" d=\"M419.914,-71.6966C419.914,-63.9827 419.914,-54.7125 419.914,-46.1124\"/>\n",
       "<polygon fill=\"black\" stroke=\"black\" points=\"423.414,-46.1043 419.914,-36.1043 416.414,-46.1044 423.414,-46.1043\"/>\n",
       "</g>\n",
       "<!-- Sound -->\n",
       "<g id=\"node17\" class=\"node\"><title>Sound</title>\n",
       "<ellipse fill=\"none\" stroke=\"black\" cx=\"504.914\" cy=\"-18\" rx=\"32.9255\" ry=\"18\"/>\n",
       "<text text-anchor=\"middle\" x=\"504.914\" y=\"-13.8\" font-family=\"Times,serif\" font-size=\"14.00\">Sound</text>\n",
       "</g>\n",
       "<!-- display&#45;&gt;Sound -->\n",
       "<g id=\"edge17\" class=\"edge\"><title>display&#45;&gt;Sound</title>\n",
       "<path fill=\"none\" stroke=\"black\" d=\"M437.94,-74.1548C450.047,-64.1844 466.173,-50.9038 479.568,-39.8729\"/>\n",
       "<polygon fill=\"black\" stroke=\"black\" points=\"482,-42.4039 487.495,-33.345 477.55,-37.0004 482,-42.4039\"/>\n",
       "</g>\n",
       "<!-- Maps -->\n",
       "<g id=\"node18\" class=\"node\"><title>Maps</title>\n",
       "<ellipse fill=\"none\" stroke=\"black\" cx=\"584.914\" cy=\"-18\" rx=\"29.5189\" ry=\"18\"/>\n",
       "<text text-anchor=\"middle\" x=\"584.914\" y=\"-13.8\" font-family=\"Times,serif\" font-size=\"14.00\">Maps</text>\n",
       "</g>\n",
       "<!-- display&#45;&gt;Maps -->\n",
       "<g id=\"edge18\" class=\"edge\"><title>display&#45;&gt;Maps</title>\n",
       "<path fill=\"none\" stroke=\"black\" d=\"M446.755,-78.0291C472.517,-67.4452 512.483,-50.8831 546.914,-36 548.705,-35.2257 550.541,-34.4257 552.392,-33.6139\"/>\n",
       "<polygon fill=\"black\" stroke=\"black\" points=\"553.913,-36.7683 561.643,-29.5223 551.082,-30.3665 553.913,-36.7683\"/>\n",
       "</g>\n",
       "<!-- ... -->\n",
       "<g id=\"node19\" class=\"node\"><title>...</title>\n",
       "<ellipse fill=\"none\" stroke=\"black\" cx=\"659.914\" cy=\"-18\" rx=\"27\" ry=\"18\"/>\n",
       "<text text-anchor=\"middle\" x=\"659.914\" y=\"-13.8\" font-family=\"Times,serif\" font-size=\"14.00\">...</text>\n",
       "</g>\n",
       "<!-- display&#45;&gt;... -->\n",
       "<g id=\"edge19\" class=\"edge\"><title>display&#45;&gt;...</title>\n",
       "<path fill=\"none\" stroke=\"black\" d=\"M452.634,-82.4776C493.409,-73.9017 564.913,-57.3822 623.914,-36 625.766,-35.3288 627.651,-34.5964 629.541,-33.8247\"/>\n",
       "<polygon fill=\"black\" stroke=\"black\" points=\"631.115,-36.9561 638.873,-29.7402 628.309,-30.5433 631.115,-36.9561\"/>\n",
       "</g>\n",
       "</g>\n",
       "</svg>\n"
      ],
      "text/plain": [
       "<graphviz.files.Source at 0x117807860>"
      ]
     },
     "metadata": {},
     "output_type": "display_data"
    }
   ],
   "source": [
    "    \n",
    "    digraph {\n",
    "        Literacy -> {\n",
    "            Textual Computational\n",
    "        }\n",
    "        Textual -> {Markdown Latex}\n",
    "        subgraph cluster_repl {\n",
    "            label=\"REPL\"\n",
    "            read -> evaluate -> print -> loop -> read}\n",
    "        Computational->read\n",
    "        evaluate -> test read -> documentation print -> display loop -> interact\n",
    "        display -> {HTML Images Videos Sound Maps \"...\"}\n",
    "    }\n",
    "    \n",
    "> [Jupyter Renderers](https://github.com/jupyterlab/jupyter-renderers)"
   ]
  },
  {
   "cell_type": "code",
   "execution_count": 8,
   "metadata": {},
   "outputs": [
    {
     "data": {
      "text/markdown": [
       "> # Notebooks have too many facets for a single styleguide. \n",
       "\n",
       "Jupyter has diverse applications in science, business, and the digital humanities.\n",
       "\n",
       "    a.pandas.read_csv(\"https://raw.githubusercontent.com/jupyter/surveys/master/surveys/2016-05-education-survey/responses.csv\")()['What field(s) is your course most related to?'].str.split(',', expand=True).unstack().dropna().reset_index(0, drop=True).apply(str.strip).value_counts().to_frame('counts')"
      ],
      "text/plain": [
       "<IPython.core.display.Markdown object>"
      ]
     },
     "metadata": {},
     "output_type": "display_data"
    },
    {
     "data": {
      "text/html": [
       "<div>\n",
       "<style>\n",
       "    .dataframe thead tr:only-child th {\n",
       "        text-align: right;\n",
       "    }\n",
       "\n",
       "    .dataframe thead th {\n",
       "        text-align: left;\n",
       "    }\n",
       "\n",
       "    .dataframe tbody tr th {\n",
       "        vertical-align: top;\n",
       "    }\n",
       "</style>\n",
       "<table border=\"1\" class=\"dataframe\">\n",
       "  <thead>\n",
       "    <tr style=\"text-align: right;\">\n",
       "      <th></th>\n",
       "      <th>counts</th>\n",
       "    </tr>\n",
       "  </thead>\n",
       "  <tbody>\n",
       "    <tr>\n",
       "      <th>Computer science</th>\n",
       "      <td>49</td>\n",
       "    </tr>\n",
       "    <tr>\n",
       "      <th>Data science</th>\n",
       "      <td>32</td>\n",
       "    </tr>\n",
       "    <tr>\n",
       "      <th>Physics</th>\n",
       "      <td>31</td>\n",
       "    </tr>\n",
       "    <tr>\n",
       "      <th>Biology</th>\n",
       "      <td>22</td>\n",
       "    </tr>\n",
       "    <tr>\n",
       "      <th>Mathematics</th>\n",
       "      <td>19</td>\n",
       "    </tr>\n",
       "    <tr>\n",
       "      <th>Statistics</th>\n",
       "      <td>17</td>\n",
       "    </tr>\n",
       "    <tr>\n",
       "      <th>Machine learning</th>\n",
       "      <td>13</td>\n",
       "    </tr>\n",
       "    <tr>\n",
       "      <th>Electrical engineering</th>\n",
       "      <td>9</td>\n",
       "    </tr>\n",
       "    <tr>\n",
       "      <th>Earth science</th>\n",
       "      <td>9</td>\n",
       "    </tr>\n",
       "    <tr>\n",
       "      <th>Chemistry</th>\n",
       "      <td>7</td>\n",
       "    </tr>\n",
       "    <tr>\n",
       "      <th>Mechanical engineering</th>\n",
       "      <td>6</td>\n",
       "    </tr>\n",
       "    <tr>\n",
       "      <th>Planetary/space science</th>\n",
       "      <td>6</td>\n",
       "    </tr>\n",
       "    <tr>\n",
       "      <th>Psychology</th>\n",
       "      <td>5</td>\n",
       "    </tr>\n",
       "    <tr>\n",
       "      <th>Economics</th>\n",
       "      <td>4</td>\n",
       "    </tr>\n",
       "    <tr>\n",
       "      <th>Literature</th>\n",
       "      <td>3</td>\n",
       "    </tr>\n",
       "    <tr>\n",
       "      <th>Sociology</th>\n",
       "      <td>2</td>\n",
       "    </tr>\n",
       "    <tr>\n",
       "      <th>Geography</th>\n",
       "      <td>2</td>\n",
       "    </tr>\n",
       "    <tr>\n",
       "      <th>History</th>\n",
       "      <td>2</td>\n",
       "    </tr>\n",
       "    <tr>\n",
       "      <th>Library science</th>\n",
       "      <td>1</td>\n",
       "    </tr>\n",
       "    <tr>\n",
       "      <th>Environmental Science</th>\n",
       "      <td>1</td>\n",
       "    </tr>\n",
       "    <tr>\n",
       "      <th>Artificial Intelligence</th>\n",
       "      <td>1</td>\n",
       "    </tr>\n",
       "    <tr>\n",
       "      <th>Civil Engineering</th>\n",
       "      <td>1</td>\n",
       "    </tr>\n",
       "    <tr>\n",
       "      <th>General elementary data &amp; programming skills</th>\n",
       "      <td>1</td>\n",
       "    </tr>\n",
       "    <tr>\n",
       "      <th>Signal Processing</th>\n",
       "      <td>1</td>\n",
       "    </tr>\n",
       "    <tr>\n",
       "      <th>Finance</th>\n",
       "      <td>1</td>\n",
       "    </tr>\n",
       "    <tr>\n",
       "      <th>Linguistics</th>\n",
       "      <td>1</td>\n",
       "    </tr>\n",
       "    <tr>\n",
       "      <th>Telecommunication</th>\n",
       "      <td>1</td>\n",
       "    </tr>\n",
       "    <tr>\n",
       "      <th>Journalism</th>\n",
       "      <td>1</td>\n",
       "    </tr>\n",
       "    <tr>\n",
       "      <th>Chemical and Biological Engineering</th>\n",
       "      <td>1</td>\n",
       "    </tr>\n",
       "    <tr>\n",
       "      <th>Arts</th>\n",
       "      <td>1</td>\n",
       "    </tr>\n",
       "    <tr>\n",
       "      <th>astrophysics</th>\n",
       "      <td>1</td>\n",
       "    </tr>\n",
       "    <tr>\n",
       "      <th>Software Engineering</th>\n",
       "      <td>1</td>\n",
       "    </tr>\n",
       "    <tr>\n",
       "      <th>Materials Engineering</th>\n",
       "      <td>1</td>\n",
       "    </tr>\n",
       "    <tr>\n",
       "      <th>Robotics</th>\n",
       "      <td>1</td>\n",
       "    </tr>\n",
       "    <tr>\n",
       "      <th>Chemical Engineering</th>\n",
       "      <td>1</td>\n",
       "    </tr>\n",
       "    <tr>\n",
       "      <th>Medicine</th>\n",
       "      <td>1</td>\n",
       "    </tr>\n",
       "    <tr>\n",
       "      <th>Political science</th>\n",
       "      <td>1</td>\n",
       "    </tr>\n",
       "  </tbody>\n",
       "</table>\n",
       "</div>"
      ],
      "text/plain": [
       "                                              counts\n",
       "Computer science                                  49\n",
       "Data science                                      32\n",
       "Physics                                           31\n",
       "Biology                                           22\n",
       "Mathematics                                       19\n",
       "Statistics                                        17\n",
       "Machine learning                                  13\n",
       "Electrical engineering                             9\n",
       "Earth science                                      9\n",
       "Chemistry                                          7\n",
       "Mechanical engineering                             6\n",
       "Planetary/space science                            6\n",
       "Psychology                                         5\n",
       "Economics                                          4\n",
       "Literature                                         3\n",
       "Sociology                                          2\n",
       "Geography                                          2\n",
       "History                                            2\n",
       "Library science                                    1\n",
       "Environmental Science                              1\n",
       "Artificial Intelligence                            1\n",
       "Civil Engineering                                  1\n",
       "General elementary data & programming skills       1\n",
       "Signal Processing                                  1\n",
       "Finance                                            1\n",
       "Linguistics                                        1\n",
       "Telecommunication                                  1\n",
       "Journalism                                         1\n",
       "Chemical and Biological Engineering                1\n",
       "Arts                                               1\n",
       "astrophysics                                       1\n",
       "Software Engineering                               1\n",
       "Materials Engineering                              1\n",
       "Robotics                                           1\n",
       "Chemical Engineering                               1\n",
       "Medicine                                           1\n",
       "Political science                                  1"
      ]
     },
     "execution_count": 8,
     "metadata": {},
     "output_type": "execute_result"
    }
   ],
   "source": [
    "> # Notebooks have too many facets for a single styleguide. \n",
    "\n",
    "Jupyter has diverse applications in science, business, and the digital humanities.\n",
    "\n",
    "    a.pandas.read_csv(\"https://raw.githubusercontent.com/jupyter/surveys/master/surveys/2016-05-education-survey/responses.csv\")()['What field(s) is your course most related to?'].str.split(',', expand=True).unstack().dropna().reset_index(0, drop=True).apply(str.strip).value_counts().to_frame('counts')"
   ]
  },
  {
   "cell_type": "code",
   "execution_count": 9,
   "metadata": {},
   "outputs": [
    {
     "data": {
      "text/markdown": [
       "[![](https://image.slidesharecdn.com/2017jupyterconmusic-170824121421/95/jupyter-and-music-8-638.jpg?cb=1503576881)](https://www.slideshare.net/willingc/jupyter-and-music)"
      ],
      "text/plain": [
       "<IPython.core.display.Markdown object>"
      ]
     },
     "metadata": {},
     "output_type": "display_data"
    }
   ],
   "source": [
    "[![](https://image.slidesharecdn.com/2017jupyterconmusic-170824121421/95/jupyter-and-music-8-638.jpg?cb=1503576881)](https://www.slideshare.net/willingc/jupyter-and-music)"
   ]
  },
  {
   "cell_type": "code",
   "execution_count": 10,
   "metadata": {},
   "outputs": [
    {
     "data": {
      "text/markdown": [
       "    https://www.oreilly.com/ideas/oreilly-oriole-learn-alongside-innovators-thought-by-thought-in-context"
      ],
      "text/plain": [
       "<IPython.core.display.Markdown object>"
      ]
     },
     "metadata": {},
     "output_type": "display_data"
    },
    {
     "data": {
      "text/html": [
       "\n",
       "        <iframe\n",
       "            width=\"800\"\n",
       "            height=\"600\"\n",
       "            src=\"https://www.oreilly.com/ideas/oreilly-oriole-learn-alongside-innovators-thought-by-thought-in-context\"\n",
       "            frameborder=\"0\"\n",
       "            allowfullscreen\n",
       "        ></iframe>\n",
       "        "
      ],
      "text/plain": [
       "<IPython.lib.display.IFrame at 0x117828c18>"
      ]
     },
     "metadata": {},
     "output_type": "display_data"
    }
   ],
   "source": [
    "    https://www.oreilly.com/ideas/oreilly-oriole-learn-alongside-innovators-thought-by-thought-in-context"
   ]
  },
  {
   "cell_type": "code",
   "execution_count": 11,
   "metadata": {},
   "outputs": [
    {
     "data": {
      "text/markdown": [
       "# Notebook Style is not about Programming Style\n",
       "\n",
       "---\n",
       "\n",
       "> ## What we learned about teaching with notebooks (in Oriole)\n",
       ">> [Paco Nathan - Oriole: a new learning medium based on Jupyter + Docker](http://nbviewer.jupyter.org/github/jupyterday-atlanta-2016/oriole_jupyterday_atl/blob/master/oriole_talk.ipynb#What-we-learned-about-teaching-with-notebooks)\n",
       "\n",
       "* focus on a concise \"unit of thought\"\n",
       "* invest the time and editorial effort to create a good introduction\n",
       "* keep your narrative simple and reasonably linear\n",
       "* \"chunk\" both the text and the code into understandable parts\n",
       "* alternate between text, code, output, further links, etc.\n",
       "* leverage markdown by providing interesting links for background, deep-dive, etc.\n",
       "* code cells should not be long, < 10 lines\n",
       "* code cells must show that they've run, producing at least *some* output \n",
       "* load data from the container, not the network\n",
       "* __clear all output then \"Run All\" -- or it didn't happen__\n",
       "* video narratives: there's text, and there's subtext...\n",
       "* pause after each \"beat\" -- smile, breathe, allow people to follow you"
      ],
      "text/plain": [
       "<IPython.core.display.Markdown object>"
      ]
     },
     "metadata": {},
     "output_type": "display_data"
    }
   ],
   "source": [
    "# Notebook Style is not about Programming Style\n",
    "\n",
    "---\n",
    "\n",
    "> ## What we learned about teaching with notebooks (in Oriole)\n",
    ">> [Paco Nathan - Oriole: a new learning medium based on Jupyter + Docker](http://nbviewer.jupyter.org/github/jupyterday-atlanta-2016/oriole_jupyterday_atl/blob/master/oriole_talk.ipynb#What-we-learned-about-teaching-with-notebooks)\n",
    "\n",
    "* focus on a concise \"unit of thought\"\n",
    "* invest the time and editorial effort to create a good introduction\n",
    "* keep your narrative simple and reasonably linear\n",
    "* \"chunk\" both the text and the code into understandable parts\n",
    "* alternate between text, code, output, further links, etc.\n",
    "* leverage markdown by providing interesting links for background, deep-dive, etc.\n",
    "* code cells should not be long, < 10 lines\n",
    "* code cells must show that they've run, producing at least *some* output \n",
    "* load data from the container, not the network\n",
    "* __clear all output then \"Run All\" -- or it didn't happen__\n",
    "* video narratives: there's text, and there's subtext...\n",
    "* pause after each \"beat\" -- smile, breathe, allow people to follow you"
   ]
  },
  {
   "cell_type": "code",
   "execution_count": 12,
   "metadata": {},
   "outputs": [
    {
     "data": {
      "text/markdown": [
       "# Notebooks Combine Textual and Computational Literacy\n",
       "    \n",
       "    digraph {\n",
       "        Literacy -> {\n",
       "            Textual Computational\n",
       "        }\n",
       "        Textual -> {Markdown Latex}\n",
       "        Computational->script\n",
       "    }"
      ],
      "text/plain": [
       "<IPython.core.display.Markdown object>"
      ]
     },
     "metadata": {},
     "output_type": "display_data"
    },
    {
     "data": {
      "image/svg+xml": [
       "<?xml version=\"1.0\" encoding=\"UTF-8\" standalone=\"no\"?>\n",
       "<!DOCTYPE svg PUBLIC \"-//W3C//DTD SVG 1.1//EN\"\n",
       " \"http://www.w3.org/Graphics/SVG/1.1/DTD/svg11.dtd\">\n",
       "<!-- Generated by graphviz version 2.38.0 (20140413.2041)\n",
       " -->\n",
       "<!-- Title: %3 Pages: 1 -->\n",
       "<svg width=\"314pt\" height=\"188pt\"\n",
       " viewBox=\"0.00 0.00 313.58 188.00\" xmlns=\"http://www.w3.org/2000/svg\" xmlns:xlink=\"http://www.w3.org/1999/xlink\">\n",
       "<g id=\"graph0\" class=\"graph\" transform=\"scale(1 1) rotate(0) translate(4 184)\">\n",
       "<title>%3</title>\n",
       "<polygon fill=\"white\" stroke=\"none\" points=\"-4,4 -4,-184 309.585,-184 309.585,4 -4,4\"/>\n",
       "<!-- Literacy -->\n",
       "<g id=\"node1\" class=\"node\"><title>Literacy</title>\n",
       "<ellipse fill=\"none\" stroke=\"black\" cx=\"183.914\" cy=\"-162\" rx=\"39.6299\" ry=\"18\"/>\n",
       "<text text-anchor=\"middle\" x=\"183.914\" y=\"-157.8\" font-family=\"Times,serif\" font-size=\"14.00\">Literacy</text>\n",
       "</g>\n",
       "<!-- Textual -->\n",
       "<g id=\"node2\" class=\"node\"><title>Textual</title>\n",
       "<ellipse fill=\"none\" stroke=\"black\" cx=\"125.914\" cy=\"-90\" rx=\"36.4981\" ry=\"18\"/>\n",
       "<text text-anchor=\"middle\" x=\"125.914\" y=\"-85.8\" font-family=\"Times,serif\" font-size=\"14.00\">Textual</text>\n",
       "</g>\n",
       "<!-- Literacy&#45;&gt;Textual -->\n",
       "<g id=\"edge1\" class=\"edge\"><title>Literacy&#45;&gt;Textual</title>\n",
       "<path fill=\"none\" stroke=\"black\" d=\"M170.461,-144.765C163.141,-135.93 153.944,-124.83 145.81,-115.014\"/>\n",
       "<polygon fill=\"black\" stroke=\"black\" points=\"148.368,-112.614 139.293,-107.147 142.978,-117.081 148.368,-112.614\"/>\n",
       "</g>\n",
       "<!-- Computational -->\n",
       "<g id=\"node3\" class=\"node\"><title>Computational</title>\n",
       "<ellipse fill=\"none\" stroke=\"black\" cx=\"242.914\" cy=\"-90\" rx=\"62.8425\" ry=\"18\"/>\n",
       "<text text-anchor=\"middle\" x=\"242.914\" y=\"-85.8\" font-family=\"Times,serif\" font-size=\"14.00\">Computational</text>\n",
       "</g>\n",
       "<!-- Literacy&#45;&gt;Computational -->\n",
       "<g id=\"edge2\" class=\"edge\"><title>Literacy&#45;&gt;Computational</title>\n",
       "<path fill=\"none\" stroke=\"black\" d=\"M197.598,-144.765C204.938,-136.056 214.133,-125.147 222.318,-115.435\"/>\n",
       "<polygon fill=\"black\" stroke=\"black\" points=\"225.125,-117.535 228.894,-107.633 219.773,-113.024 225.125,-117.535\"/>\n",
       "</g>\n",
       "<!-- Markdown -->\n",
       "<g id=\"node4\" class=\"node\"><title>Markdown</title>\n",
       "<ellipse fill=\"none\" stroke=\"black\" cx=\"48.9136\" cy=\"-18\" rx=\"48.8273\" ry=\"18\"/>\n",
       "<text text-anchor=\"middle\" x=\"48.9136\" y=\"-13.8\" font-family=\"Times,serif\" font-size=\"14.00\">Markdown</text>\n",
       "</g>\n",
       "<!-- Textual&#45;&gt;Markdown -->\n",
       "<g id=\"edge3\" class=\"edge\"><title>Textual&#45;&gt;Markdown</title>\n",
       "<path fill=\"none\" stroke=\"black\" d=\"M109.206,-73.811C98.9275,-64.4672 85.5596,-52.3146 74.0238,-41.8274\"/>\n",
       "<polygon fill=\"black\" stroke=\"black\" points=\"76.1444,-39.0251 66.3906,-34.8882 71.4356,-44.2047 76.1444,-39.0251\"/>\n",
       "</g>\n",
       "<!-- Latex -->\n",
       "<g id=\"node5\" class=\"node\"><title>Latex</title>\n",
       "<ellipse fill=\"none\" stroke=\"black\" cx=\"145.914\" cy=\"-18\" rx=\"30.4775\" ry=\"18\"/>\n",
       "<text text-anchor=\"middle\" x=\"145.914\" y=\"-13.8\" font-family=\"Times,serif\" font-size=\"14.00\">Latex</text>\n",
       "</g>\n",
       "<!-- Textual&#45;&gt;Latex -->\n",
       "<g id=\"edge4\" class=\"edge\"><title>Textual&#45;&gt;Latex</title>\n",
       "<path fill=\"none\" stroke=\"black\" d=\"M130.755,-72.055C133.015,-64.1446 135.759,-54.5398 138.288,-45.6879\"/>\n",
       "<polygon fill=\"black\" stroke=\"black\" points=\"141.735,-46.3658 141.117,-35.789 135.004,-44.4427 141.735,-46.3658\"/>\n",
       "</g>\n",
       "<!-- script -->\n",
       "<g id=\"node6\" class=\"node\"><title>script</title>\n",
       "<ellipse fill=\"none\" stroke=\"black\" cx=\"242.914\" cy=\"-18\" rx=\"29.5104\" ry=\"18\"/>\n",
       "<text text-anchor=\"middle\" x=\"242.914\" y=\"-13.8\" font-family=\"Times,serif\" font-size=\"14.00\">script</text>\n",
       "</g>\n",
       "<!-- Computational&#45;&gt;script -->\n",
       "<g id=\"edge5\" class=\"edge\"><title>Computational&#45;&gt;script</title>\n",
       "<path fill=\"none\" stroke=\"black\" d=\"M242.914,-71.6966C242.914,-63.9827 242.914,-54.7125 242.914,-46.1124\"/>\n",
       "<polygon fill=\"black\" stroke=\"black\" points=\"246.414,-46.1043 242.914,-36.1043 239.414,-46.1044 246.414,-46.1043\"/>\n",
       "</g>\n",
       "</g>\n",
       "</svg>\n"
      ],
      "text/plain": [
       "<graphviz.files.Source at 0x117b927b8>"
      ]
     },
     "metadata": {},
     "output_type": "display_data"
    }
   ],
   "source": [
    "# Notebooks Combine Textual and Computational Literacy\n",
    "    \n",
    "    digraph {\n",
    "        Literacy -> {\n",
    "            Textual Computational\n",
    "        }\n",
    "        Textual -> {Markdown Latex}\n",
    "        Computational->script\n",
    "    }"
   ]
  },
  {
   "cell_type": "code",
   "execution_count": 13,
   "metadata": {},
   "outputs": [
    {
     "data": {
      "text/markdown": [
       "A notebook that will \"__Restart and Run All__\" completely is Computationally Literate.  [`nbconvert`](http://nbconvert.readthedocs.io/) has an `--execute` flag.\n",
       "\n",
       "    if __name__ == '__main__':\n",
       "        !jupyter nbconvert --to markdown --execute test_notebook.ipynb\n",
       "        !rm test_notebook.md"
      ],
      "text/plain": [
       "<IPython.core.display.Markdown object>"
      ]
     },
     "metadata": {},
     "output_type": "display_data"
    },
    {
     "name": "stdout",
     "output_type": "stream",
     "text": [
      "[NbConvertApp] Converting notebook test_notebook.ipynb to markdown\n",
      "[NbConvertApp] Executing notebook with kernel: other-env\n",
      "[NbConvertApp] Writing 354 bytes to test_notebook.md\n"
     ]
    }
   ],
   "source": [
    "A notebook that will \"__Restart and Run All__\" completely is Computationally Literate.  [`nbconvert`](http://nbconvert.readthedocs.io/) has an `--execute` flag.\n",
    "\n",
    "    if __name__ == '__main__':\n",
    "        !jupyter nbconvert --to markdown --execute test_notebook.ipynb\n",
    "        !rm test_notebook.md"
   ]
  },
  {
   "cell_type": "code",
   "execution_count": null,
   "metadata": {},
   "outputs": [],
   "source": [
    "---\n",
    "\n",
    "> # clear all output then \"Run All\" -- or it didn't happen\n",
    "\n",
    "## Promotes reusable Textual and Computational Documents\n",
    "\n",
    "    if __name__ == '__main__':\n",
    "\n",
    "---\n",
    "        \n",
    "## Is the notebook sufficient to replicate?\n",
    "\n",
    "        !jupyter nbconvert --to markdown cognitive.ipynb        \n",
    "        \n",
    "## A Notebook is sufficient to reproduce if it works as a script.\n",
    "\n",
    "        !jupyter nbconvert --to python test_notebook.ipynb\n",
    "        !source activate p6 && python test_notebook.py\n",
    "        !rm test_notebook.py\n",
    "        \n",
    "---        \n",
    "\n",
    "## Reusable notebooks are literate computitional essays that can be replicated and reproduced.\n",
    "\n",
    "---"
   ]
  },
  {
   "cell_type": "code",
   "execution_count": 14,
   "metadata": {},
   "outputs": [
    {
     "data": {
      "text/markdown": [
       "# Scientific Computing Influences Popular Cultur[e](https://twitter.com/wesmckinn/status/975941025523957761)\n",
       "\n",
       "> “The TV scientist who mutters sadly, \"The experiment is a failure; we have failed to achieve what we had hoped for,\" is suffering mainly from a bad script writer. An experiment is never a failure solely because it fails to achieve predicted results. An experiment is a failure only when it also fails adequately to test the hypothesis in question, when the data it produces don't prove anything one way or another.” \n",
       "\n",
       ">> Robert M. Pirsig, [Zen and the Art of Motorcycle Maintenance: An Inquiry Into Values](https://en.wikipedia.org/wiki/Zen_and_the_Art_of_Motorcycle_Maintenance)"
      ],
      "text/plain": [
       "<IPython.core.display.Markdown object>"
      ]
     },
     "metadata": {},
     "output_type": "display_data"
    }
   ],
   "source": [
    "# Scientific Computing Influences Popular Cultur[e](https://twitter.com/wesmckinn/status/975941025523957761)\n",
    "\n",
    "> “The TV scientist who mutters sadly, \"The experiment is a failure; we have failed to achieve what we had hoped for,\" is suffering mainly from a bad script writer. An experiment is never a failure solely because it fails to achieve predicted results. An experiment is a failure only when it also fails adequately to test the hypothesis in question, when the data it produces don't prove anything one way or another.” \n",
    "\n",
    ">> Robert M. Pirsig, [Zen and the Art of Motorcycle Maintenance: An Inquiry Into Values](https://en.wikipedia.org/wiki/Zen_and_the_Art_of_Motorcycle_Maintenance)"
   ]
  },
  {
   "cell_type": "code",
   "execution_count": 15,
   "metadata": {},
   "outputs": [
    {
     "data": {
      "text/markdown": [
       "> # It takes style and identity to be a ~~cool~~ nerd."
      ],
      "text/plain": [
       "<IPython.core.display.Markdown object>"
      ]
     },
     "metadata": {},
     "output_type": "display_data"
    }
   ],
   "source": [
    "> # It takes style and identity to be a ~~cool~~ nerd.\n"
   ]
  },
  {
   "cell_type": "code",
   "execution_count": 16,
   "metadata": {},
   "outputs": [
    {
     "data": {
      "text/markdown": [
       "    import this"
      ],
      "text/plain": [
       "<IPython.core.display.Markdown object>"
      ]
     },
     "metadata": {},
     "output_type": "display_data"
    },
    {
     "name": "stdout",
     "output_type": "stream",
     "text": [
      "The Zen of Python, by Tim Peters\n",
      "\n",
      "Beautiful is better than ugly.\n",
      "Explicit is better than implicit.\n",
      "Simple is better than complex.\n",
      "Complex is better than complicated.\n",
      "Flat is better than nested.\n",
      "Sparse is better than dense.\n",
      "Readability counts.\n",
      "Special cases aren't special enough to break the rules.\n",
      "Although practicality beats purity.\n",
      "Errors should never pass silently.\n",
      "Unless explicitly silenced.\n",
      "In the face of ambiguity, refuse the temptation to guess.\n",
      "There should be one-- and preferably only one --obvious way to do it.\n",
      "Although that way may not be obvious at first unless you're Dutch.\n",
      "Now is better than never.\n",
      "Although never is often better than *right* now.\n",
      "If the implementation is hard to explain, it's a bad idea.\n",
      "If the implementation is easy to explain, it may be a good idea.\n",
      "Namespaces are one honking great idea -- let's do more of those!\n"
     ]
    }
   ],
   "source": [
    "    import this"
   ]
  },
  {
   "cell_type": "code",
   "execution_count": 17,
   "metadata": {},
   "outputs": [
    {
     "data": {
      "text/markdown": [
       "# [Zen of NumPy](http://technicaldiscovery.blogspot.com/2010/11/zen-of-numpy.html?m=1)\n",
       "\n",
       "<pre><code>\n",
       "Strided is better than scattered\n",
       "Contiguous is better than strided\n",
       "Descriptive is better than imperative (use data-types)\n",
       "Array-oriented is often better than object-oriented\n",
       "Broadcasting is a great idea -- use where possible\n",
       "Vectorized is better than an explicit loop\n",
       "Unless it’s complicated --- then use numexpr, weave, or Cython\n",
       "Think in higher dimensions\n",
       "</code></pre>"
      ],
      "text/plain": [
       "<IPython.core.display.Markdown object>"
      ]
     },
     "metadata": {},
     "output_type": "display_data"
    }
   ],
   "source": [
    "# [Zen of NumPy](http://technicaldiscovery.blogspot.com/2010/11/zen-of-numpy.html?m=1)\n",
    "\n",
    "<pre><code>\n",
    "Strided is better than scattered\n",
    "Contiguous is better than strided\n",
    "Descriptive is better than imperative (use data-types)\n",
    "Array-oriented is often better than object-oriented\n",
    "Broadcasting is a great idea -- use where possible\n",
    "Vectorized is better than an explicit loop\n",
    "Unless it’s complicated --- then use numexpr, weave, or Cython\n",
    "Think in higher dimensions\n",
    "</code></pre>"
   ]
  },
  {
   "cell_type": "code",
   "execution_count": 18,
   "metadata": {},
   "outputs": [
    {
     "data": {
      "text/markdown": [
       "# [Zen of SymPy](https://github.com/sympy/sympy/wiki/The-Zen-of-SymPy)\n",
       "\n",
       "<pre><code>\n",
       "Unevaluated is better than evaluated.\n",
       "The user interface matters.\n",
       "Printing matters.\n",
       "Pure Python can be fast enough.\n",
       "If it's too slow, it's (probably) your fault.\n",
       "Documentation matters.\n",
       "Correctness is more important than speed.\n",
       "Push it in now and improve upon it later.\n",
       "Coverage by testing matters.\n",
       "Smart tests are better than random tests.\n",
       "But random tests sometimes find what your smartest test missed.\n",
       "The Python way is probably the right way.\n",
       "Community is more important than code.\n",
       "</code></pre>"
      ],
      "text/plain": [
       "<IPython.core.display.Markdown object>"
      ]
     },
     "metadata": {},
     "output_type": "display_data"
    }
   ],
   "source": [
    "# [Zen of SymPy](https://github.com/sympy/sympy/wiki/The-Zen-of-SymPy)\n",
    "\n",
    "<pre><code>\n",
    "Unevaluated is better than evaluated.\n",
    "The user interface matters.\n",
    "Printing matters.\n",
    "Pure Python can be fast enough.\n",
    "If it's too slow, it's (probably) your fault.\n",
    "Documentation matters.\n",
    "Correctness is more important than speed.\n",
    "Push it in now and improve upon it later.\n",
    "Coverage by testing matters.\n",
    "Smart tests are better than random tests.\n",
    "But random tests sometimes find what your smartest test missed.\n",
    "The Python way is probably the right way.\n",
    "Community is more important than code.\n",
    "</code></pre>"
   ]
  },
  {
   "cell_type": "code",
   "execution_count": 19,
   "metadata": {},
   "outputs": [
    {
     "data": {
      "text/markdown": [
       "# [The Best of the Best Practices (BOBP) Guide for Python](https://gist.github.com/sloria/7001839#file-bobp-python-md)\n",
       "\n",
       "A \"Best of the Best Practices\" (BOBP) guide to developing in Python.\n",
       "\n",
       "## In General\n",
       "\n",
       "### Values\n",
       "\n",
       "- \"Build tools for others that you want to be built for you.\" - Kenneth Reitz\n",
       "- \"Simplicity is alway better than functionality.\" - Pieter Hintjens\n",
       "- \"Fit the 90% use-case. Ignore the nay sayers.\" - Kenneth Reitz\n",
       "- \"Beautiful is better than ugly.\" - [PEP 20][]\n",
       "- Build for open source (even for closed source projects).\n",
       "\n",
       "### General Development Guidelines\n",
       "\n",
       "- \"Explicit is better than implicit\" - [PEP 20][]\n",
       "- \"Readability counts.\" - [PEP 20][]\n",
       "- \"Anybody can fix anything.\" - [Khan Academy Development Docs][]\n",
       "- Fix each [broken window](http://www.artima.com/intv/fixit2.html) (bad design, wrong decision, or poor code) *as soon as it is discovered*.\n",
       "- \"Now is better than never.\" - [PEP 20][]\n",
       "- __Test ruthlessly. Write docs for new features.__\n",
       "- Even more important that Test-Driven Development--*Human-Driven Development*\n",
       "- These guidelines may--and probably will--change."
      ],
      "text/plain": [
       "<IPython.core.display.Markdown object>"
      ]
     },
     "metadata": {},
     "output_type": "display_data"
    }
   ],
   "source": [
    "# [The Best of the Best Practices (BOBP) Guide for Python](https://gist.github.com/sloria/7001839#file-bobp-python-md)\n",
    "\n",
    "A \"Best of the Best Practices\" (BOBP) guide to developing in Python.\n",
    "\n",
    "## In General\n",
    "\n",
    "### Values\n",
    "\n",
    "- \"Build tools for others that you want to be built for you.\" - Kenneth Reitz\n",
    "- \"Simplicity is alway better than functionality.\" - Pieter Hintjens\n",
    "- \"Fit the 90% use-case. Ignore the nay sayers.\" - Kenneth Reitz\n",
    "- \"Beautiful is better than ugly.\" - [PEP 20][]\n",
    "- Build for open source (even for closed source projects).\n",
    "\n",
    "### General Development Guidelines\n",
    "\n",
    "- \"Explicit is better than implicit\" - [PEP 20][]\n",
    "- \"Readability counts.\" - [PEP 20][]\n",
    "- \"Anybody can fix anything.\" - [Khan Academy Development Docs][]\n",
    "- Fix each [broken window](http://www.artima.com/intv/fixit2.html) (bad design, wrong decision, or poor code) *as soon as it is discovered*.\n",
    "- \"Now is better than never.\" - [PEP 20][]\n",
    "- __Test ruthlessly. Write docs for new features.__\n",
    "- Even more important that Test-Driven Development--*Human-Driven Development*\n",
    "- These guidelines may--and probably will--change."
   ]
  },
  {
   "cell_type": "code",
   "execution_count": 20,
   "metadata": {},
   "outputs": [
    {
     "data": {
      "text/markdown": [
       "# [Python for Humans](https://speakerdeck.com/kennethreitz/python-for-humans) by [Kenneth Rietz](kennethreitz.org)\n",
       "\n",
       "![](https://speakerd.s3.amazonaws.com/presentations/4f24d3a79a6510001f008836/slide_9.jpg)"
      ],
      "text/plain": [
       "<IPython.core.display.Markdown object>"
      ]
     },
     "metadata": {},
     "output_type": "display_data"
    }
   ],
   "source": [
    "# [Python for Humans](https://speakerdeck.com/kennethreitz/python-for-humans) by [Kenneth Rietz](kennethreitz.org)\n",
    "\n",
    "![](https://speakerd.s3.amazonaws.com/presentations/4f24d3a79a6510001f008836/slide_9.jpg)"
   ]
  },
  {
   "cell_type": "code",
   "execution_count": 21,
   "metadata": {},
   "outputs": [
    {
     "data": {
      "text/markdown": [
       "    https://journal.kennethreitz.org/entry/my-hat"
      ],
      "text/plain": [
       "<IPython.core.display.Markdown object>"
      ]
     },
     "metadata": {},
     "output_type": "display_data"
    },
    {
     "data": {
      "text/html": [
       "\n",
       "        <iframe\n",
       "            width=\"800\"\n",
       "            height=\"600\"\n",
       "            src=\"https://journal.kennethreitz.org/entry/my-hat\"\n",
       "            frameborder=\"0\"\n",
       "            allowfullscreen\n",
       "        ></iframe>\n",
       "        "
      ],
      "text/plain": [
       "<IPython.lib.display.IFrame at 0x117828c88>"
      ]
     },
     "metadata": {},
     "output_type": "display_data"
    }
   ],
   "source": [
    "    https://journal.kennethreitz.org/entry/my-hat"
   ]
  }
 ],
 "metadata": {
  "kernelspec": {
   "display_name": "p6",
   "language": "python",
   "name": "other-env"
  },
  "language_info": {
   "codemirror_mode": {
    "name": "ipython",
    "version": 3
   },
   "file_extension": ".py",
   "mimetype": "text/x-python",
   "name": "python",
   "nbconvert_exporter": "python",
   "pygments_lexer": "ipython3",
   "version": "3.6.3"
  }
 },
 "nbformat": 4,
 "nbformat_minor": 2
}
