{
 "cells": [
  {
   "cell_type": "markdown",
   "metadata": {},
   "source": [
    "## Notebooks are a Style of Knowledge Sharing\n",
    "\n",
    "Notebooks are infrastructure for symbollic expression.\n",
    "\n",
    "[![](http://archives-dc.library.caltech.edu/islandora/object/ct1%3A483/datastream/JPG/view)](http://archives-dc.library.caltech.edu/islandora/object/ct1:483)"
   ]
  },
  {
   "cell_type": "code",
   "execution_count": 77,
   "metadata": {},
   "outputs": [
    {
     "data": {
      "text/markdown": [
       "    from poser import *\n",
       "    if __name__ == '__main__':\n",
       "        %reload_ext pidgin\n",
       "        %pidgin @../macros    \n",
       "        %matplotlib inline\n",
       "    __file__ = globals().get('__file__', 'cognitive.ipynb')"
      ],
      "text/plain": [
       "<IPython.core.display.Markdown object>"
      ]
     },
     "metadata": {},
     "output_type": "display_data"
    }
   ],
   "source": [
    "    from poser import *\n",
    "    if __name__ == '__main__':\n",
    "        %reload_ext pidgin\n",
    "        %pidgin @../macros    \n",
    "        %matplotlib inline\n",
    "    __file__ = globals().get('__file__', 'cognitive.ipynb')"
   ]
  },
  {
   "cell_type": "code",
   "execution_count": 78,
   "metadata": {},
   "outputs": [
    {
     "data": {
      "text/markdown": [
       "    try: from . import gists\n",
       "    except: import gists\n",
       "\n",
       "# I ❤️ Notebooks\n",
       "    \n",
       "    gists.df.language.value_counts().sort_values(ascending=False).plot.bar()\n",
       "    def testMyNotebooks(): assert gists.df.language.value_counts().loc['Jupyter Notebook'] > 300, f\"\"\"Get a life {gists.user}\"\"\""
      ],
      "text/plain": [
       "<IPython.core.display.Markdown object>"
      ]
     },
     "metadata": {},
     "output_type": "display_data"
    },
    {
     "data": {
      "image/png": "[encoded data removed]",
      "text/plain": [
       "<matplotlib.figure.Figure at 0x1190e66a0>"
      ]
     },
     "metadata": {},
     "output_type": "display_data"
    },
    {
     "name": "stdout",
     "output_type": "stream",
     "text": [
      "<sweet.test.Result run=1 errors=0 failures=0>\n"
     ]
    }
   ],
   "source": [
    "    try: from . import gists\n",
    "    except: import gists\n",
    "\n",
    "# I ❤️ Notebooks\n",
    "    \n",
    "    gists.df.language.value_counts().sort_values(ascending=False).plot.bar()\n",
    "    def testMyNotebooks(): assert gists.df.language.value_counts().loc['Jupyter Notebook'] > 300, f\"\"\"Get a life {gists.user}\"\"\""
   ]
  },
  {
   "cell_type": "code",
   "execution_count": 79,
   "metadata": {},
   "outputs": [
    {
     "data": {
      "text/markdown": [
       "# Y'all ❤️ Notebooks\n",
       "    \n",
       "    nbestimate = \"http://nbviewer.jupyter.org/github/parente/nbestimate/blob/master/estimate.ipynb\"\n",
       "    nb_count = the.pandas.read_html(nbestimate).first()()\n",
       "    def testNbestimates(): assert gists.df.language.value_counts().loc['Jupyter Notebook'] > 300, f\"\"\"Get a life {gists.user}\"\"\""
      ],
      "text/plain": [
       "<IPython.core.display.Markdown object>"
      ]
     },
     "metadata": {},
     "output_type": "display_data"
    },
    {
     "name": "stdout",
     "output_type": "stream",
     "text": [
      "<sweet.test.Result run=1 errors=0 failures=0>\n"
     ]
    }
   ],
   "source": [
    "# Y'all ❤️ Notebooks\n",
    "    \n",
    "    nbestimate = \"http://nbviewer.jupyter.org/github/parente/nbestimate/blob/master/estimate.ipynb\"\n",
    "    nb_count = the.pandas.read_html(nbestimate).first()()\n",
    "    def testNbestimates(): assert gists.df.language.value_counts().loc['Jupyter Notebook'] > 300, f\"\"\"Get a life {gists.user}\"\"\""
   ]
  },
  {
   "cell_type": "code",
   "execution_count": 80,
   "metadata": {},
   "outputs": [
    {
     "data": {
      "text/markdown": [
       "    http://nbviewer.jupyter.org/github/parente/nbestimate/blob/master/estimate.ipynb\n",
       "    \n",
       "# [@parente]()'s `nbestimate`\n",
       "    "
      ],
      "text/plain": [
       "<IPython.core.display.Markdown object>"
      ]
     },
     "metadata": {},
     "output_type": "display_data"
    },
    {
     "data": {
      "text/html": [
       "\n",
       "        <iframe\n",
       "            width=\"800\"\n",
       "            height=\"600\"\n",
       "            src=\"http://nbviewer.jupyter.org/github/parente/nbestimate/blob/master/estimate.ipynb\"\n",
       "            frameborder=\"0\"\n",
       "            allowfullscreen\n",
       "        ></iframe>\n",
       "        "
      ],
      "text/plain": [
       "<IPython.lib.display.IFrame at 0x1194f8668>"
      ]
     },
     "metadata": {},
     "output_type": "display_data"
    }
   ],
   "source": [
    "    {{nbestimate}}\n",
    "    \n",
    "# [@parente]()'s `nbestimate`\n",
    "    "
   ]
  },
  {
   "cell_type": "code",
   "execution_count": 82,
   "metadata": {},
   "outputs": [
    {
     "data": {
      "text/html": [
       "\n",
       "        <iframe\n",
       "            width=\"800\"\n",
       "            height=\"600\"\n",
       "            src=\"https://sinews.siam.org/Details-Page/jupyter-tools-for-the-life-cycle-of-a-computational-idea-5\"\n",
       "            frameborder=\"0\"\n",
       "            allowfullscreen\n",
       "        ></iframe>\n",
       "        "
      ],
      "text/plain": [
       "<IPython.lib.display.IFrame at 0x1194f8fd0>"
      ]
     },
     "metadata": {},
     "output_type": "display_data"
    }
   ],
   "source": [
    "    \n",
    "    https://sinews.siam.org/Details-Page/jupyter-tools-for-the-life-cycle-of-a-computational-idea-5"
   ]
  },
  {
   "cell_type": "code",
   "execution_count": 83,
   "metadata": {},
   "outputs": [
    {
     "data": {
      "text/markdown": [
       "> Computational literacy builds on textual literacy because it entails textual writing and reading, but it is also quite distinct from textual literacy. In programming, one must build structures out of explicitly de ned components. As Wittgenstein argued, human language works di erently: not through explicit de nitions, but through use and exchange.\n",
       ">> Vee"
      ],
      "text/plain": [
       "<IPython.core.display.Markdown object>"
      ]
     },
     "metadata": {},
     "output_type": "display_data"
    }
   ],
   "source": [
    "> Computational literacy builds on textual literacy because it entails textual writing and reading, but it is also quite distinct from textual literacy. In programming, one must build structures out of explicitly de ned components. As Wittgenstein argued, human language works di erently: not through explicit de nitions, but through use and exchange.\n",
    ">> Vee"
   ]
  },
  {
   "cell_type": "code",
   "execution_count": 85,
   "metadata": {},
   "outputs": [
    {
     "data": {
      "image/svg+xml": [
       "<?xml version=\"1.0\" encoding=\"UTF-8\" standalone=\"no\"?>\n",
       "<!DOCTYPE svg PUBLIC \"-//W3C//DTD SVG 1.1//EN\"\n",
       " \"http://www.w3.org/Graphics/SVG/1.1/DTD/svg11.dtd\">\n",
       "<!-- Generated by graphviz version 2.38.0 (20140413.2041)\n",
       " -->\n",
       "<!-- Title: %3 Pages: 1 -->\n",
       "<svg width=\"448pt\" height=\"476pt\"\n",
       " viewBox=\"0.00 0.00 447.58 476.00\" xmlns=\"http://www.w3.org/2000/svg\" xmlns:xlink=\"http://www.w3.org/1999/xlink\">\n",
       "<g id=\"graph0\" class=\"graph\" transform=\"scale(1 1) rotate(0) translate(4 472)\">\n",
       "<title>%3</title>\n",
       "<polygon fill=\"white\" stroke=\"none\" points=\"-4,4 -4,-472 443.576,-472 443.576,4 -4,4\"/>\n",
       "<g id=\"clust3\" class=\"cluster\"><title>cluster_repl</title>\n",
       "<polygon fill=\"none\" stroke=\"black\" points=\"188.914,-64 188.914,-332 304.914,-332 304.914,-64 188.914,-64\"/>\n",
       "</g>\n",
       "<!-- Literacy -->\n",
       "<g id=\"node1\" class=\"node\"><title>Literacy</title>\n",
       "<ellipse fill=\"none\" stroke=\"black\" cx=\"197.914\" cy=\"-450\" rx=\"39.6299\" ry=\"18\"/>\n",
       "<text text-anchor=\"middle\" x=\"197.914\" y=\"-445.8\" font-family=\"Times,serif\" font-size=\"14.00\">Literacy</text>\n",
       "</g>\n",
       "<!-- Textual -->\n",
       "<g id=\"node2\" class=\"node\"><title>Textual</title>\n",
       "<ellipse fill=\"none\" stroke=\"black\" cx=\"139.914\" cy=\"-378\" rx=\"36.4981\" ry=\"18\"/>\n",
       "<text text-anchor=\"middle\" x=\"139.914\" y=\"-373.8\" font-family=\"Times,serif\" font-size=\"14.00\">Textual</text>\n",
       "</g>\n",
       "<!-- Literacy&#45;&gt;Textual -->\n",
       "<g id=\"edge1\" class=\"edge\"><title>Literacy&#45;&gt;Textual</title>\n",
       "<path fill=\"none\" stroke=\"black\" d=\"M184.461,-432.765C177.141,-423.93 167.944,-412.83 159.81,-403.014\"/>\n",
       "<polygon fill=\"black\" stroke=\"black\" points=\"162.368,-400.614 153.293,-395.147 156.978,-405.081 162.368,-400.614\"/>\n",
       "</g>\n",
       "<!-- Computational -->\n",
       "<g id=\"node3\" class=\"node\"><title>Computational</title>\n",
       "<ellipse fill=\"none\" stroke=\"black\" cx=\"256.914\" cy=\"-378\" rx=\"62.8425\" ry=\"18\"/>\n",
       "<text text-anchor=\"middle\" x=\"256.914\" y=\"-373.8\" font-family=\"Times,serif\" font-size=\"14.00\">Computational</text>\n",
       "</g>\n",
       "<!-- Literacy&#45;&gt;Computational -->\n",
       "<g id=\"edge2\" class=\"edge\"><title>Literacy&#45;&gt;Computational</title>\n",
       "<path fill=\"none\" stroke=\"black\" d=\"M211.598,-432.765C218.938,-424.056 228.133,-413.147 236.318,-403.435\"/>\n",
       "<polygon fill=\"black\" stroke=\"black\" points=\"239.125,-405.535 242.894,-395.633 233.773,-401.024 239.125,-405.535\"/>\n",
       "</g>\n",
       "<!-- Markdown -->\n",
       "<g id=\"node4\" class=\"node\"><title>Markdown</title>\n",
       "<ellipse fill=\"none\" stroke=\"black\" cx=\"48.9136\" cy=\"-306\" rx=\"48.8273\" ry=\"18\"/>\n",
       "<text text-anchor=\"middle\" x=\"48.9136\" y=\"-301.8\" font-family=\"Times,serif\" font-size=\"14.00\">Markdown</text>\n",
       "</g>\n",
       "<!-- Textual&#45;&gt;Markdown -->\n",
       "<g id=\"edge3\" class=\"edge\"><title>Textual&#45;&gt;Markdown</title>\n",
       "<path fill=\"none\" stroke=\"black\" d=\"M121.058,-362.496C108.351,-352.721 91.3624,-339.653 77.063,-328.653\"/>\n",
       "<polygon fill=\"black\" stroke=\"black\" points=\"79.0674,-325.78 69.0071,-322.457 74.7994,-331.328 79.0674,-325.78\"/>\n",
       "</g>\n",
       "<!-- Latex -->\n",
       "<g id=\"node5\" class=\"node\"><title>Latex</title>\n",
       "<ellipse fill=\"none\" stroke=\"black\" cx=\"145.914\" cy=\"-306\" rx=\"30.4775\" ry=\"18\"/>\n",
       "<text text-anchor=\"middle\" x=\"145.914\" y=\"-301.8\" font-family=\"Times,serif\" font-size=\"14.00\">Latex</text>\n",
       "</g>\n",
       "<!-- Textual&#45;&gt;Latex -->\n",
       "<g id=\"edge4\" class=\"edge\"><title>Textual&#45;&gt;Latex</title>\n",
       "<path fill=\"none\" stroke=\"black\" d=\"M141.397,-359.697C142.058,-351.983 142.853,-342.712 143.59,-334.112\"/>\n",
       "<polygon fill=\"black\" stroke=\"black\" points=\"147.081,-334.367 144.447,-324.104 140.106,-333.769 147.081,-334.367\"/>\n",
       "</g>\n",
       "<!-- read -->\n",
       "<g id=\"node6\" class=\"node\"><title>read</title>\n",
       "<ellipse fill=\"none\" stroke=\"black\" cx=\"256.914\" cy=\"-306\" rx=\"27\" ry=\"18\"/>\n",
       "<text text-anchor=\"middle\" x=\"256.914\" y=\"-301.8\" font-family=\"Times,serif\" font-size=\"14.00\">read</text>\n",
       "</g>\n",
       "<!-- Computational&#45;&gt;read -->\n",
       "<g id=\"edge9\" class=\"edge\"><title>Computational&#45;&gt;read</title>\n",
       "<path fill=\"none\" stroke=\"black\" d=\"M256.914,-359.697C256.914,-351.983 256.914,-342.712 256.914,-334.112\"/>\n",
       "<polygon fill=\"black\" stroke=\"black\" points=\"260.414,-334.104 256.914,-324.104 253.414,-334.104 260.414,-334.104\"/>\n",
       "</g>\n",
       "<!-- evaluate -->\n",
       "<g id=\"node7\" class=\"node\"><title>evaluate</title>\n",
       "<ellipse fill=\"none\" stroke=\"black\" cx=\"256.914\" cy=\"-234\" rx=\"39.6299\" ry=\"18\"/>\n",
       "<text text-anchor=\"middle\" x=\"256.914\" y=\"-229.8\" font-family=\"Times,serif\" font-size=\"14.00\">evaluate</text>\n",
       "</g>\n",
       "<!-- read&#45;&gt;evaluate -->\n",
       "<g id=\"edge5\" class=\"edge\"><title>read&#45;&gt;evaluate</title>\n",
       "<path fill=\"none\" stroke=\"black\" d=\"M256.914,-287.697C256.914,-279.983 256.914,-270.712 256.914,-262.112\"/>\n",
       "<polygon fill=\"black\" stroke=\"black\" points=\"260.414,-262.104 256.914,-252.104 253.414,-262.104 260.414,-262.104\"/>\n",
       "</g>\n",
       "<!-- documentation -->\n",
       "<g id=\"node11\" class=\"node\"><title>documentation</title>\n",
       "<ellipse fill=\"none\" stroke=\"black\" cx=\"376.914\" cy=\"-234\" rx=\"62.8252\" ry=\"18\"/>\n",
       "<text text-anchor=\"middle\" x=\"376.914\" y=\"-229.8\" font-family=\"Times,serif\" font-size=\"14.00\">documentation</text>\n",
       "</g>\n",
       "<!-- read&#45;&gt;documentation -->\n",
       "<g id=\"edge11\" class=\"edge\"><title>read&#45;&gt;documentation</title>\n",
       "<path fill=\"none\" stroke=\"black\" d=\"M276.729,-293.441C294.32,-283.18 320.44,-267.943 341.598,-255.6\"/>\n",
       "<polygon fill=\"black\" stroke=\"black\" points=\"343.449,-258.573 350.324,-250.511 339.922,-252.526 343.449,-258.573\"/>\n",
       "</g>\n",
       "<!-- print -->\n",
       "<g id=\"node8\" class=\"node\"><title>print</title>\n",
       "<ellipse fill=\"none\" stroke=\"black\" cx=\"256.914\" cy=\"-162\" rx=\"27\" ry=\"18\"/>\n",
       "<text text-anchor=\"middle\" x=\"256.914\" y=\"-157.8\" font-family=\"Times,serif\" font-size=\"14.00\">print</text>\n",
       "</g>\n",
       "<!-- evaluate&#45;&gt;print -->\n",
       "<g id=\"edge6\" class=\"edge\"><title>evaluate&#45;&gt;print</title>\n",
       "<path fill=\"none\" stroke=\"black\" d=\"M256.914,-215.697C256.914,-207.983 256.914,-198.712 256.914,-190.112\"/>\n",
       "<polygon fill=\"black\" stroke=\"black\" points=\"260.414,-190.104 256.914,-180.104 253.414,-190.104 260.414,-190.104\"/>\n",
       "</g>\n",
       "<!-- test -->\n",
       "<g id=\"node10\" class=\"node\"><title>test</title>\n",
       "<ellipse fill=\"none\" stroke=\"black\" cx=\"339.914\" cy=\"-162\" rx=\"27\" ry=\"18\"/>\n",
       "<text text-anchor=\"middle\" x=\"339.914\" y=\"-157.8\" font-family=\"Times,serif\" font-size=\"14.00\">test</text>\n",
       "</g>\n",
       "<!-- evaluate&#45;&gt;test -->\n",
       "<g id=\"edge10\" class=\"edge\"><title>evaluate&#45;&gt;test</title>\n",
       "<path fill=\"none\" stroke=\"black\" d=\"M274.923,-217.811C287.005,-207.622 303.048,-194.092 316.171,-183.024\"/>\n",
       "<polygon fill=\"black\" stroke=\"black\" points=\"318.515,-185.626 323.903,-176.503 314.002,-180.275 318.515,-185.626\"/>\n",
       "</g>\n",
       "<!-- loop -->\n",
       "<g id=\"node9\" class=\"node\"><title>loop</title>\n",
       "<ellipse fill=\"none\" stroke=\"black\" cx=\"239.914\" cy=\"-90\" rx=\"27\" ry=\"18\"/>\n",
       "<text text-anchor=\"middle\" x=\"239.914\" y=\"-85.8\" font-family=\"Times,serif\" font-size=\"14.00\">loop</text>\n",
       "</g>\n",
       "<!-- print&#45;&gt;loop -->\n",
       "<g id=\"edge7\" class=\"edge\"><title>print&#45;&gt;loop</title>\n",
       "<path fill=\"none\" stroke=\"black\" d=\"M252.798,-144.055C250.906,-136.261 248.613,-126.822 246.49,-118.079\"/>\n",
       "<polygon fill=\"black\" stroke=\"black\" points=\"249.87,-117.167 244.109,-108.275 243.068,-118.819 249.87,-117.167\"/>\n",
       "</g>\n",
       "<!-- display -->\n",
       "<g id=\"node12\" class=\"node\"><title>display</title>\n",
       "<ellipse fill=\"none\" stroke=\"black\" cx=\"348.914\" cy=\"-90\" rx=\"35.806\" ry=\"18\"/>\n",
       "<text text-anchor=\"middle\" x=\"348.914\" y=\"-85.8\" font-family=\"Times,serif\" font-size=\"14.00\">display</text>\n",
       "</g>\n",
       "<!-- print&#45;&gt;display -->\n",
       "<g id=\"edge12\" class=\"edge\"><title>print&#45;&gt;display</title>\n",
       "<path fill=\"none\" stroke=\"black\" d=\"M274.218,-147.834C287.657,-137.608 306.537,-123.243 321.952,-111.514\"/>\n",
       "<polygon fill=\"black\" stroke=\"black\" points=\"324.265,-114.153 330.104,-105.312 320.026,-108.582 324.265,-114.153\"/>\n",
       "</g>\n",
       "<!-- loop&#45;&gt;read -->\n",
       "<g id=\"edge8\" class=\"edge\"><title>loop&#45;&gt;read</title>\n",
       "<path fill=\"none\" stroke=\"black\" d=\"M230.935,-107.064C215.651,-136.639 188.073,-201.313 207.914,-252 212.838,-264.581 222.306,-275.965 231.616,-284.929\"/>\n",
       "<polygon fill=\"black\" stroke=\"black\" points=\"229.529,-287.76 239.297,-291.863 234.219,-282.564 229.529,-287.76\"/>\n",
       "</g>\n",
       "<!-- interact -->\n",
       "<g id=\"node13\" class=\"node\"><title>interact</title>\n",
       "<ellipse fill=\"none\" stroke=\"black\" cx=\"239.914\" cy=\"-18\" rx=\"36.7403\" ry=\"18\"/>\n",
       "<text text-anchor=\"middle\" x=\"239.914\" y=\"-13.8\" font-family=\"Times,serif\" font-size=\"14.00\">interact</text>\n",
       "</g>\n",
       "<!-- loop&#45;&gt;interact -->\n",
       "<g id=\"edge13\" class=\"edge\"><title>loop&#45;&gt;interact</title>\n",
       "<path fill=\"none\" stroke=\"black\" d=\"M239.914,-71.6966C239.914,-63.9827 239.914,-54.7125 239.914,-46.1124\"/>\n",
       "<polygon fill=\"black\" stroke=\"black\" points=\"243.414,-46.1043 239.914,-36.1043 236.414,-46.1044 243.414,-46.1043\"/>\n",
       "</g>\n",
       "</g>\n",
       "</svg>\n"
      ],
      "text/plain": [
       "<graphviz.files.Source at 0x1194e2f28>"
      ]
     },
     "metadata": {},
     "output_type": "display_data"
    }
   ],
   "source": [
    "    \n",
    "    digraph {\n",
    "        Literacy -> {\n",
    "            Textual Computational\n",
    "        }\n",
    "        Textual -> {Markdown Latex}\n",
    "        subgraph cluster_repl {\n",
    "            read -> evaluate -> print -> loop -> read}\n",
    "        Computational->read\n",
    "        evaluate -> test read -> documentation print -> display loop -> interact\n",
    "    }"
   ]
  },
  {
   "cell_type": "code",
   "execution_count": 89,
   "metadata": {},
   "outputs": [
    {
     "data": {
      "text/markdown": [
       "# Notebooks have Too Many Facets for Style. What about the 💎Bling💎?\n",
       "\n",
       "Notebook's apply to broad domains and programming languages"
      ],
      "text/plain": [
       "<IPython.core.display.Markdown object>"
      ]
     },
     "metadata": {},
     "output_type": "display_data"
    }
   ],
   "source": [
    "# Notebooks have Too Many Facets for Style. What about the 💎Bling💎?\n",
    "\n",
    "Notebook's apply to broad domains and programming languages"
   ]
  },
  {
   "cell_type": "code",
   "execution_count": 90,
   "metadata": {},
   "outputs": [
    {
     "data": {
      "text/markdown": [
       "    https://github.com/jupyter/surveys"
      ],
      "text/plain": [
       "<IPython.core.display.Markdown object>"
      ]
     },
     "metadata": {},
     "output_type": "display_data"
    },
    {
     "data": {
      "text/html": [
       "\n",
       "        <iframe\n",
       "            width=\"800\"\n",
       "            height=\"600\"\n",
       "            src=\"https://github.com/jupyter/surveys\"\n",
       "            frameborder=\"0\"\n",
       "            allowfullscreen\n",
       "        ></iframe>\n",
       "        "
      ],
      "text/plain": [
       "<IPython.lib.display.IFrame at 0x1195123c8>"
      ]
     },
     "metadata": {},
     "output_type": "display_data"
    }
   ],
   "source": [
    "    https://github.com/jupyter/surveys"
   ]
  },
  {
   "cell_type": "code",
   "execution_count": 58,
   "metadata": {},
   "outputs": [
    {
     "data": {
      "text/markdown": [
       "# [Oriole: a new learning medium based on Jupyter + Docker](http://nbviewer.jupyter.org/github/jupyterday-atlanta-2016/oriole_jupyterday_atl/blob/master/oriole_talk.ipynb#What-we-learned-about-teaching-with-notebooks)\n",
       "\n",
       "> Paco Nathan"
      ],
      "text/plain": [
       "<IPython.core.display.Markdown object>"
      ]
     },
     "metadata": {},
     "output_type": "display_data"
    }
   ],
   "source": [
    "# [Oriole: a new learning medium based on Jupyter + Docker](http://nbviewer.jupyter.org/github/jupyterday-atlanta-2016/oriole_jupyterday_atl/blob/master/oriole_talk.ipynb#What-we-learned-about-teaching-with-notebooks)\n",
    "\n",
    "> Paco Nathan"
   ]
  },
  {
   "cell_type": "code",
   "execution_count": 39,
   "metadata": {},
   "outputs": [
    {
     "data": {
      "text/markdown": [
       "    https://www.safaribooksonline.com/oriole/"
      ],
      "text/plain": [
       "<IPython.core.display.Markdown object>"
      ]
     },
     "metadata": {},
     "output_type": "display_data"
    },
    {
     "data": {
      "text/html": [
       "\n",
       "        <iframe\n",
       "            width=\"800\"\n",
       "            height=\"600\"\n",
       "            src=\"https://www.safaribooksonline.com/oriole/\"\n",
       "            frameborder=\"0\"\n",
       "            allowfullscreen\n",
       "        ></iframe>\n",
       "        "
      ],
      "text/plain": [
       "<IPython.lib.display.IFrame at 0x1190e32b0>"
      ]
     },
     "metadata": {},
     "output_type": "display_data"
    }
   ],
   "source": [
    "    https://www.safaribooksonline.com/oriole/"
   ]
  },
  {
   "cell_type": "code",
   "execution_count": 40,
   "metadata": {},
   "outputs": [
    {
     "data": {
      "text/markdown": [
       "## What we learned about teaching with notebooks (in Oriole)\n",
       "\n",
       "* focus on a concise \"unit of thought\"\n",
       "* invest the time and editorial effort to create a good introduction\n",
       "* keep your narrative simple and reasonably linear\n",
       "* \"chunk\" both the text and the code into understandable parts\n",
       "* alternate between text, code, output, further links, etc.\n",
       "* leverage markdown by providing interesting links for background, deep-dive, etc.\n",
       "* code cells should not be long, < 10 lines\n",
       "* code cells must show that they've run, producing at least *some* output \n",
       "* load data from the container, not the network\n",
       "* __clear all output then \"Run All\" -- or it didn't happen__\n",
       "* video narratives: there's text, and there's subtext...\n",
       "* pause after each \"beat\" -- smile, breathe, allow people to follow you"
      ],
      "text/plain": [
       "<IPython.core.display.Markdown object>"
      ]
     },
     "metadata": {},
     "output_type": "display_data"
    }
   ],
   "source": [
    "## What we learned about teaching with notebooks (in Oriole)\n",
    "\n",
    "* focus on a concise \"unit of thought\"\n",
    "* invest the time and editorial effort to create a good introduction\n",
    "* keep your narrative simple and reasonably linear\n",
    "* \"chunk\" both the text and the code into understandable parts\n",
    "* alternate between text, code, output, further links, etc.\n",
    "* leverage markdown by providing interesting links for background, deep-dive, etc.\n",
    "* code cells should not be long, < 10 lines\n",
    "* code cells must show that they've run, producing at least *some* output \n",
    "* load data from the container, not the network\n",
    "* __clear all output then \"Run All\" -- or it didn't happen__\n",
    "* video narratives: there's text, and there's subtext...\n",
    "* pause after each \"beat\" -- smile, breathe, allow people to follow you"
   ]
  },
  {
   "cell_type": "code",
   "execution_count": 44,
   "metadata": {},
   "outputs": [
    {
     "data": {
      "text/markdown": [
       "    digraph {\n",
       "        Literacy -> {\n",
       "            Textual Computational\n",
       "        }\n",
       "        Textual -> {Markdown Latex}\n",
       "        Computational->script\n",
       "    }\n",
       "\n",
       "# Textual and Script Computational Documents are Evaluated in Order"
      ],
      "text/plain": [
       "<IPython.core.display.Markdown object>"
      ]
     },
     "metadata": {},
     "output_type": "display_data"
    },
    {
     "data": {
      "image/svg+xml": [
       "<?xml version=\"1.0\" encoding=\"UTF-8\" standalone=\"no\"?>\n",
       "<!DOCTYPE svg PUBLIC \"-//W3C//DTD SVG 1.1//EN\"\n",
       " \"http://www.w3.org/Graphics/SVG/1.1/DTD/svg11.dtd\">\n",
       "<!-- Generated by graphviz version 2.38.0 (20140413.2041)\n",
       " -->\n",
       "<!-- Title: %3 Pages: 1 -->\n",
       "<svg width=\"314pt\" height=\"188pt\"\n",
       " viewBox=\"0.00 0.00 313.58 188.00\" xmlns=\"http://www.w3.org/2000/svg\" xmlns:xlink=\"http://www.w3.org/1999/xlink\">\n",
       "<g id=\"graph0\" class=\"graph\" transform=\"scale(1 1) rotate(0) translate(4 184)\">\n",
       "<title>%3</title>\n",
       "<polygon fill=\"white\" stroke=\"none\" points=\"-4,4 -4,-184 309.585,-184 309.585,4 -4,4\"/>\n",
       "<!-- Literacy -->\n",
       "<g id=\"node1\" class=\"node\"><title>Literacy</title>\n",
       "<ellipse fill=\"none\" stroke=\"black\" cx=\"183.914\" cy=\"-162\" rx=\"39.6299\" ry=\"18\"/>\n",
       "<text text-anchor=\"middle\" x=\"183.914\" y=\"-157.8\" font-family=\"Times,serif\" font-size=\"14.00\">Literacy</text>\n",
       "</g>\n",
       "<!-- Textual -->\n",
       "<g id=\"node2\" class=\"node\"><title>Textual</title>\n",
       "<ellipse fill=\"none\" stroke=\"black\" cx=\"125.914\" cy=\"-90\" rx=\"36.4981\" ry=\"18\"/>\n",
       "<text text-anchor=\"middle\" x=\"125.914\" y=\"-85.8\" font-family=\"Times,serif\" font-size=\"14.00\">Textual</text>\n",
       "</g>\n",
       "<!-- Literacy&#45;&gt;Textual -->\n",
       "<g id=\"edge1\" class=\"edge\"><title>Literacy&#45;&gt;Textual</title>\n",
       "<path fill=\"none\" stroke=\"black\" d=\"M170.461,-144.765C163.141,-135.93 153.944,-124.83 145.81,-115.014\"/>\n",
       "<polygon fill=\"black\" stroke=\"black\" points=\"148.368,-112.614 139.293,-107.147 142.978,-117.081 148.368,-112.614\"/>\n",
       "</g>\n",
       "<!-- Computational -->\n",
       "<g id=\"node3\" class=\"node\"><title>Computational</title>\n",
       "<ellipse fill=\"none\" stroke=\"black\" cx=\"242.914\" cy=\"-90\" rx=\"62.8425\" ry=\"18\"/>\n",
       "<text text-anchor=\"middle\" x=\"242.914\" y=\"-85.8\" font-family=\"Times,serif\" font-size=\"14.00\">Computational</text>\n",
       "</g>\n",
       "<!-- Literacy&#45;&gt;Computational -->\n",
       "<g id=\"edge2\" class=\"edge\"><title>Literacy&#45;&gt;Computational</title>\n",
       "<path fill=\"none\" stroke=\"black\" d=\"M197.598,-144.765C204.938,-136.056 214.133,-125.147 222.318,-115.435\"/>\n",
       "<polygon fill=\"black\" stroke=\"black\" points=\"225.125,-117.535 228.894,-107.633 219.773,-113.024 225.125,-117.535\"/>\n",
       "</g>\n",
       "<!-- Markdown -->\n",
       "<g id=\"node4\" class=\"node\"><title>Markdown</title>\n",
       "<ellipse fill=\"none\" stroke=\"black\" cx=\"48.9136\" cy=\"-18\" rx=\"48.8273\" ry=\"18\"/>\n",
       "<text text-anchor=\"middle\" x=\"48.9136\" y=\"-13.8\" font-family=\"Times,serif\" font-size=\"14.00\">Markdown</text>\n",
       "</g>\n",
       "<!-- Textual&#45;&gt;Markdown -->\n",
       "<g id=\"edge3\" class=\"edge\"><title>Textual&#45;&gt;Markdown</title>\n",
       "<path fill=\"none\" stroke=\"black\" d=\"M109.206,-73.811C98.9275,-64.4672 85.5596,-52.3146 74.0238,-41.8274\"/>\n",
       "<polygon fill=\"black\" stroke=\"black\" points=\"76.1444,-39.0251 66.3906,-34.8882 71.4356,-44.2047 76.1444,-39.0251\"/>\n",
       "</g>\n",
       "<!-- Latex -->\n",
       "<g id=\"node5\" class=\"node\"><title>Latex</title>\n",
       "<ellipse fill=\"none\" stroke=\"black\" cx=\"145.914\" cy=\"-18\" rx=\"30.4775\" ry=\"18\"/>\n",
       "<text text-anchor=\"middle\" x=\"145.914\" y=\"-13.8\" font-family=\"Times,serif\" font-size=\"14.00\">Latex</text>\n",
       "</g>\n",
       "<!-- Textual&#45;&gt;Latex -->\n",
       "<g id=\"edge4\" class=\"edge\"><title>Textual&#45;&gt;Latex</title>\n",
       "<path fill=\"none\" stroke=\"black\" d=\"M130.755,-72.055C133.015,-64.1446 135.759,-54.5398 138.288,-45.6879\"/>\n",
       "<polygon fill=\"black\" stroke=\"black\" points=\"141.735,-46.3658 141.117,-35.789 135.004,-44.4427 141.735,-46.3658\"/>\n",
       "</g>\n",
       "<!-- script -->\n",
       "<g id=\"node6\" class=\"node\"><title>script</title>\n",
       "<ellipse fill=\"none\" stroke=\"black\" cx=\"242.914\" cy=\"-18\" rx=\"29.5104\" ry=\"18\"/>\n",
       "<text text-anchor=\"middle\" x=\"242.914\" y=\"-13.8\" font-family=\"Times,serif\" font-size=\"14.00\">script</text>\n",
       "</g>\n",
       "<!-- Computational&#45;&gt;script -->\n",
       "<g id=\"edge5\" class=\"edge\"><title>Computational&#45;&gt;script</title>\n",
       "<path fill=\"none\" stroke=\"black\" d=\"M242.914,-71.6966C242.914,-63.9827 242.914,-54.7125 242.914,-46.1124\"/>\n",
       "<polygon fill=\"black\" stroke=\"black\" points=\"246.414,-46.1043 242.914,-36.1043 239.414,-46.1044 246.414,-46.1043\"/>\n",
       "</g>\n",
       "</g>\n",
       "</svg>\n"
      ],
      "text/plain": [
       "<graphviz.files.Source at 0x1190e33c8>"
      ]
     },
     "metadata": {},
     "output_type": "display_data"
    }
   ],
   "source": [
    "    digraph {\n",
    "        Literacy -> {\n",
    "            Textual Computational\n",
    "        }\n",
    "        Textual -> {Markdown Latex}\n",
    "        Computational->script\n",
    "    }\n",
    "\n",
    "# Textual and Script Computational Documents are Evaluated in Order"
   ]
  },
  {
   "cell_type": "code",
   "execution_count": 55,
   "metadata": {},
   "outputs": [
    {
     "data": {
      "text/markdown": [
       "> # clear all output then \"Run All\" -- or it didn't happen\n",
       "\n",
       "## Delivers reusable Textual and Computational Documents\n",
       "\n",
       "    if __name__ == '__main__':\n",
       "        \n",
       "## Is the notebook sufficient to replicate?\n",
       "\n",
       "        !jupyter nbconvert --to markdown cognitive.ipynb        \n",
       "        \n",
       "## Is the notebook sufficnet to reproduce?\n",
       "\n",
       "        !jupyter nbconvert --to python cognitive.ipynb\n",
       "        !source activate p6 && python cognitive.py\n",
       "        \n",
       "## Maybe the notebook can be reused?"
      ],
      "text/plain": [
       "<IPython.core.display.Markdown object>"
      ]
     },
     "metadata": {},
     "output_type": "display_data"
    },
    {
     "name": "stdout",
     "output_type": "stream",
     "text": [
      "[NbConvertApp] Converting notebook cognitive.ipynb to markdown\n",
      "[NbConvertApp] Support files will be in cognitive_files/\n",
      "[NbConvertApp] Making directory cognitive_files\n",
      "[NbConvertApp] Making directory cognitive_files\n",
      "[NbConvertApp] Making directory cognitive_files\n",
      "[NbConvertApp] Writing 9035 bytes to cognitive.md\n",
      "[NbConvertApp] Converting notebook cognitive.ipynb to python\n",
      "[NbConvertApp] Writing 3931 bytes to cognitive.py\n",
      "  File \"cognitive.py\", line 40\n",
      "    nbestimate = \"http://nbviewer.jupyter.org/github/parente/nbestimate/blob/master/estimate.ipynb\"\n",
      "    ^\n",
      "IndentationError: unexpected indent\n"
     ]
    }
   ],
   "source": [
    "> # clear all output then \"Run All\" -- or it didn't happen\n",
    "\n",
    "## Delivers reusable Textual and Computational Documents\n",
    "\n",
    "    if __name__ == '__main__':\n",
    "        \n",
    "## Is the notebook sufficient to replicate?\n",
    "\n",
    "        !jupyter nbconvert --to markdown cognitive.ipynb        \n",
    "        \n",
    "## Is the notebook sufficnet to reproduce?\n",
    "\n",
    "        !jupyter nbconvert --to python cognitive.ipynb\n",
    "        !source activate p6 && python cognitive.py\n",
    "        \n",
    "## Maybe the notebook can be reused?"
   ]
  },
  {
   "cell_type": "code",
   "execution_count": 60,
   "metadata": {},
   "outputs": [
    {
     "data": {
      "text/markdown": [
       "> “The TV scientist who mutters sadly, \"The experiment is a failure; we have failed to achieve what we had hoped for,\" is suffering mainly from a bad script writer. An experiment is never a failure solely because it fails to achieve predicted results. An experiment is a failure only when it also fails adequately to test the hypothesis in question, when the data it produces don't prove anything one way or another.” \n",
       "\n",
       ">> Robert M. Pirsig, Zen and the Art of Motorcycle Maintenance: An Inquiry Into Values"
      ],
      "text/plain": [
       "<IPython.core.display.Markdown object>"
      ]
     },
     "metadata": {},
     "output_type": "display_data"
    }
   ],
   "source": [
    "> “The TV scientist who mutters sadly, \"The experiment is a failure; we have failed to achieve what we had hoped for,\" is suffering mainly from a bad script writer. An experiment is never a failure solely because it fails to achieve predicted results. An experiment is a failure only when it also fails adequately to test the hypothesis in question, when the data it produces don't prove anything one way or another.” \n",
    "\n",
    ">> Robert M. Pirsig, Zen and the Art of Motorcycle Maintenance: An Inquiry Into Values"
   ]
  },
  {
   "cell_type": "code",
   "execution_count": 61,
   "metadata": {},
   "outputs": [
    {
     "data": {
      "text/markdown": [
       "    import this"
      ],
      "text/plain": [
       "<IPython.core.display.Markdown object>"
      ]
     },
     "metadata": {},
     "output_type": "display_data"
    },
    {
     "name": "stdout",
     "output_type": "stream",
     "text": [
      "The Zen of Python, by Tim Peters\n",
      "\n",
      "Beautiful is better than ugly.\n",
      "Explicit is better than implicit.\n",
      "Simple is better than complex.\n",
      "Complex is better than complicated.\n",
      "Flat is better than nested.\n",
      "Sparse is better than dense.\n",
      "Readability counts.\n",
      "Special cases aren't special enough to break the rules.\n",
      "Although practicality beats purity.\n",
      "Errors should never pass silently.\n",
      "Unless explicitly silenced.\n",
      "In the face of ambiguity, refuse the temptation to guess.\n",
      "There should be one-- and preferably only one --obvious way to do it.\n",
      "Although that way may not be obvious at first unless you're Dutch.\n",
      "Now is better than never.\n",
      "Although never is often better than *right* now.\n",
      "If the implementation is hard to explain, it's a bad idea.\n",
      "If the implementation is easy to explain, it may be a good idea.\n",
      "Namespaces are one honking great idea -- let's do more of those!\n"
     ]
    }
   ],
   "source": [
    "    import this"
   ]
  },
  {
   "cell_type": "code",
   "execution_count": 70,
   "metadata": {},
   "outputs": [
    {
     "data": {
      "text/markdown": [
       "# [Zen of NumPy](http://technicaldiscovery.blogspot.com/2010/11/zen-of-numpy.html?m=1)\n",
       "\n",
       "<pre><code>\n",
       "Strided is better than scattered\n",
       "Contiguous is better than strided\n",
       "Descriptive is better than imperative (use data-types)\n",
       "Array-oriented is often better than object-oriented\n",
       "Broadcasting is a great idea -- use where possible\n",
       "Vectorized is better than an explicit loop\n",
       "Unless it’s complicated --- then use numexpr, weave, or Cython\n",
       "Think in higher dimensions\n",
       "</code></pre>"
      ],
      "text/plain": [
       "<IPython.core.display.Markdown object>"
      ]
     },
     "metadata": {},
     "output_type": "display_data"
    }
   ],
   "source": [
    "# [Zen of NumPy](http://technicaldiscovery.blogspot.com/2010/11/zen-of-numpy.html?m=1)\n",
    "\n",
    "<pre><code>\n",
    "Strided is better than scattered\n",
    "Contiguous is better than strided\n",
    "Descriptive is better than imperative (use data-types)\n",
    "Array-oriented is often better than object-oriented\n",
    "Broadcasting is a great idea -- use where possible\n",
    "Vectorized is better than an explicit loop\n",
    "Unless it’s complicated --- then use numexpr, weave, or Cython\n",
    "Think in higher dimensions\n",
    "</code></pre>"
   ]
  },
  {
   "cell_type": "code",
   "execution_count": 71,
   "metadata": {},
   "outputs": [
    {
     "data": {
      "text/markdown": [
       "# [Zen of SymPy](https://github.com/sympy/sympy/wiki/The-Zen-of-SymPy)\n",
       "\n",
       "<pre><code>\n",
       "Unevaluated is better than evaluated.\n",
       "The user interface matters.\n",
       "Printing matters.\n",
       "Pure Python can be fast enough.\n",
       "If it's too slow, it's (probably) your fault.\n",
       "Documentation matters.\n",
       "Correctness is more important than speed.\n",
       "Push it in now and improve upon it later.\n",
       "Coverage by testing matters.\n",
       "Smart tests are better than random tests.\n",
       "But random tests sometimes find what your smartest test missed.\n",
       "The Python way is probably the right way.\n",
       "Community is more important than code.\n",
       "</code></pre>"
      ],
      "text/plain": [
       "<IPython.core.display.Markdown object>"
      ]
     },
     "metadata": {},
     "output_type": "display_data"
    }
   ],
   "source": [
    "# [Zen of SymPy](https://github.com/sympy/sympy/wiki/The-Zen-of-SymPy)\n",
    "\n",
    "<pre><code>\n",
    "Unevaluated is better than evaluated.\n",
    "The user interface matters.\n",
    "Printing matters.\n",
    "Pure Python can be fast enough.\n",
    "If it's too slow, it's (probably) your fault.\n",
    "Documentation matters.\n",
    "Correctness is more important than speed.\n",
    "Push it in now and improve upon it later.\n",
    "Coverage by testing matters.\n",
    "Smart tests are better than random tests.\n",
    "But random tests sometimes find what your smartest test missed.\n",
    "The Python way is probably the right way.\n",
    "Community is more important than code.\n",
    "</code></pre>"
   ]
  },
  {
   "cell_type": "code",
   "execution_count": 75,
   "metadata": {},
   "outputs": [
    {
     "data": {
      "text/markdown": [
       "# [Python for Humans](https://speakerdeck.com/kennethreitz/python-for-humans) by [Kenneth Rietz](kennethreitz.org)\n",
       "\n",
       "![](https://speakerd.s3.amazonaws.com/presentations/4f24d3a79a6510001f008836/slide_9.jpg)"
      ],
      "text/plain": [
       "<IPython.core.display.Markdown object>"
      ]
     },
     "metadata": {},
     "output_type": "display_data"
    }
   ],
   "source": [
    "# [Python for Humans](https://speakerdeck.com/kennethreitz/python-for-humans) by [Kenneth Rietz](kennethreitz.org)\n",
    "\n",
    "![](https://speakerd.s3.amazonaws.com/presentations/4f24d3a79a6510001f008836/slide_9.jpg)"
   ]
  },
  {
   "cell_type": "code",
   "execution_count": 76,
   "metadata": {},
   "outputs": [
    {
     "data": {
      "text/markdown": [
       "    https://journal.kennethreitz.org/entry/my-hat"
      ],
      "text/plain": [
       "<IPython.core.display.Markdown object>"
      ]
     },
     "metadata": {},
     "output_type": "display_data"
    },
    {
     "data": {
      "text/html": [
       "\n",
       "        <iframe\n",
       "            width=\"800\"\n",
       "            height=\"600\"\n",
       "            src=\"https://journal.kennethreitz.org/entry/my-hat\"\n",
       "            frameborder=\"0\"\n",
       "            allowfullscreen\n",
       "        ></iframe>\n",
       "        "
      ],
      "text/plain": [
       "<IPython.lib.display.IFrame at 0x119107a58>"
      ]
     },
     "metadata": {},
     "output_type": "display_data"
    }
   ],
   "source": [
    "    https://journal.kennethreitz.org/entry/my-hat"
   ]
  }
 ],
 "metadata": {
  "kernelspec": {
   "display_name": "p6",
   "language": "python",
   "name": "other-env"
  },
  "language_info": {
   "codemirror_mode": {
    "name": "ipython",
    "version": 3
   },
   "file_extension": ".py",
   "mimetype": "text/x-python",
   "name": "python",
   "nbconvert_exporter": "python",
   "pygments_lexer": "ipython3",
   "version": "3.6.3"
  }
 },
 "nbformat": 4,
 "nbformat_minor": 2
}
